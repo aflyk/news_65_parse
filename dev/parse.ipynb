{
 "cells": [
  {
   "cell_type": "code",
   "execution_count": 99,
   "metadata": {},
   "outputs": [],
   "source": [
    "import requests\n",
    "\n",
    "from config import settings\n",
    "from pprint import pprint"
   ]
  },
  {
   "cell_type": "code",
   "execution_count": 30,
   "metadata": {},
   "outputs": [],
   "source": [
    "def get_news_data(link: str):\n",
    "    headers = {\n",
    "        'User-Agent': 'Mozilla/5.0 (Windows NT 10.0; Win64; x64; rv:124.0) Gecko/20100101 Firefox/124.0'\n",
    "    }\n",
    "    response = requests.get(link,  headers=headers)\n",
    "    if response.status_code == 200:\n",
    "        return response.json()\n",
    "    raise 'Ошибка полученния данных с новостного сайта'"
   ]
  },
  {
   "cell_type": "code",
   "execution_count": 31,
   "metadata": {},
   "outputs": [
    {
     "name": "stdout",
     "output_type": "stream",
     "text": [
      "{'matters': [{'id': 413020, 'title': '9 апреля 2024: какие сегодня праздники отмечают', 'is_promo': False, 'show_authors': False, 'published_at': '2024-04-09T09:30:00.000+11:00', 'noindex_text': None, 'platform_id': 12, 'lightning': False, 'registration_area': 'bashkortostan', 'is_partners_matter': False, 'is_exclusive': False, 'has_video': False, 'has_audio': False, 'has_gallery': False, 'images_count': 1, 'lead': 'Газета «Южно-Сахалинск сегодня» рассказывает, какие праздники отмечаются в России и мире 9 апреля 2024 года.', 'kind': 'news_item', 'kind_path': '/news', 'image': {'author': None, 'source': '@kues1 / freepik.com', 'description': None, 'width': 800, 'height': 451, 'url': '/attachments/1e463007ba7e84e0adc017974e16d0d720688787/store/crop/0/24/800/451/800/0/0/0/85d204bcb33d68259a8918f7283eaa7da5c8c672a0b9480df766a2585196/85d204bcb33d68259a8918f7283eaa7da5c8c672a0b9480df766a2585196.jpeg.jpg', 'image_90': '/attachments/2b4b9943e2ea16c9fbaef9f489839f5868b9cfa5/store/crop/0/24/800/451/90/0/0/0/85d204bcb33d68259a8918f7283eaa7da5c8c672a0b9480df766a2585196/85d204bcb33d68259a8918f7283eaa7da5c8c672a0b9480df766a2585196.jpeg.jpg', 'image_250': '/attachments/929d0a236ad9673d7cb78db32f82f5ee97bb13de/store/crop/0/24/800/451/250/0/0/0/85d204bcb33d68259a8918f7283eaa7da5c8c672a0b9480df766a2585196/85d204bcb33d68259a8918f7283eaa7da5c8c672a0b9480df766a2585196.jpeg.jpg', 'image_800': '/attachments/1e463007ba7e84e0adc017974e16d0d720688787/store/crop/0/24/800/451/800/0/0/0/85d204bcb33d68259a8918f7283eaa7da5c8c672a0b9480df766a2585196/85d204bcb33d68259a8918f7283eaa7da5c8c672a0b9480df766a2585196.jpeg.jpg', 'image_1600': '/attachments/d2bbc58d86149100a7961d3edee900da2481bfb0/store/crop/0/24/800/451/1600/0/0/0/85d204bcb33d68259a8918f7283eaa7da5c8c672a0b9480df766a2585196/85d204bcb33d68259a8918f7283eaa7da5c8c672a0b9480df766a2585196.jpeg.jpg', 'apply_blackout': 0}, 'path': '/news/society/2024-04-09/9-aprelya-2024-kakie-segodnya-prazdniki-otmechayut-413020', 'rubric_title': 'Общество', 'rubric_path': '/news/society', 'type': 'Новость', 'authors': [], 'platform_title': 'Южно-Сахалинск сегодня', 'platform_host': 'https://sakhizdat.ru/'}, {'id': 412827, 'title': 'Гороскоп на 9 апреля 2024 года: советы астрологов на день', 'is_promo': False, 'show_authors': False, 'published_at': '2024-04-08T21:15:00.000+11:00', 'noindex_text': None, 'platform_id': 12, 'lightning': False, 'registration_area': 'bashkortostan', 'is_partners_matter': False, 'is_exclusive': False, 'has_video': False, 'has_audio': False, 'has_gallery': False, 'images_count': 1, 'lead': 'Газета «Южно-Сахалинск сегодня» публикует гороскоп для всех знаков зодиака на 9 апреля 2024 года.', 'kind': 'news_item', 'kind_path': '/news', 'image': {'author': None, 'source': 'loon.site', 'description': None, 'width': 796, 'height': 450, 'url': '/attachments/1c7bdcac688aea02b5fc1bd2f674a3642d43e036/store/crop/0/0/796/450/800/0/0/0/b8f7f7a6a632f5fd13128ef7e72bb3e637a5103562805f78acc117dcb86d/b8f7f7a6a632f5fd13128ef7e72bb3e637a5103562805f78acc117dcb86d.jpeg', 'image_90': '/attachments/02bd620269d9e1da717d63935be4dbef72c5982a/store/crop/0/0/796/450/90/0/0/0/b8f7f7a6a632f5fd13128ef7e72bb3e637a5103562805f78acc117dcb86d/b8f7f7a6a632f5fd13128ef7e72bb3e637a5103562805f78acc117dcb86d.jpeg', 'image_250': '/attachments/78a45e3c4a3e997adcd0906ace34453d5b269541/store/crop/0/0/796/450/250/0/0/0/b8f7f7a6a632f5fd13128ef7e72bb3e637a5103562805f78acc117dcb86d/b8f7f7a6a632f5fd13128ef7e72bb3e637a5103562805f78acc117dcb86d.jpeg', 'image_800': '/attachments/1c7bdcac688aea02b5fc1bd2f674a3642d43e036/store/crop/0/0/796/450/800/0/0/0/b8f7f7a6a632f5fd13128ef7e72bb3e637a5103562805f78acc117dcb86d/b8f7f7a6a632f5fd13128ef7e72bb3e637a5103562805f78acc117dcb86d.jpeg', 'image_1600': '/attachments/5772df0f08efcae7d401c53c8a13595026ec9b70/store/crop/0/0/796/450/1600/0/0/0/b8f7f7a6a632f5fd13128ef7e72bb3e637a5103562805f78acc117dcb86d/b8f7f7a6a632f5fd13128ef7e72bb3e637a5103562805f78acc117dcb86d.jpeg', 'apply_blackout': 0}, 'path': '/news/society/2024-04-08/goroskop-na-9-aprelya-2024-goda-sovety-astrologov-na-den-412827', 'rubric_title': 'Общество', 'rubric_path': '/news/society', 'type': 'Новость', 'authors': [], 'platform_title': 'Южно-Сахалинск сегодня', 'platform_host': 'https://sakhizdat.ru/'}, {'id': 412921, 'title': 'Пасха в 2024 году: дата, традиции, что нельзя делать', 'is_promo': False, 'show_authors': False, 'published_at': '2024-04-08T18:15:00.000+11:00', 'noindex_text': None, 'platform_id': 12, 'lightning': False, 'registration_area': 'bashkortostan', 'is_partners_matter': False, 'is_exclusive': False, 'has_video': False, 'has_audio': False, 'has_gallery': False, 'images_count': 1, 'lead': 'Газета «Южно-Сахалинск сегодня» рассказывает, на какую дату выпадает Пасха в 2024 году, каковы традиции и приметы праздника.', 'kind': 'news_item', 'kind_path': '/news', 'image': {'author': None, 'source': 'Sakh.online', 'description': None, 'width': 796, 'height': 449, 'url': '/attachments/17aaef72fcbbc2c92283928c93f1af1d547f090d/store/crop/3/0/796/449/800/0/0/0/34c40596f47f6a9452aadfac44be9dfe60e3f847cebcb09e51bfe55b6e1e/34c40596f47f6a9452aadfac44be9dfe60e3f847cebcb09e51bfe55b6e1e.jpeg.jpg', 'image_90': '/attachments/6c36df6ee0866dfc816aa5feaba81004ad5b6a06/store/crop/3/0/796/449/90/0/0/0/34c40596f47f6a9452aadfac44be9dfe60e3f847cebcb09e51bfe55b6e1e/34c40596f47f6a9452aadfac44be9dfe60e3f847cebcb09e51bfe55b6e1e.jpeg.jpg', 'image_250': '/attachments/d692ae1e0bd0907235f3a211453587b78c2bfaad/store/crop/3/0/796/449/250/0/0/0/34c40596f47f6a9452aadfac44be9dfe60e3f847cebcb09e51bfe55b6e1e/34c40596f47f6a9452aadfac44be9dfe60e3f847cebcb09e51bfe55b6e1e.jpeg.jpg', 'image_800': '/attachments/17aaef72fcbbc2c92283928c93f1af1d547f090d/store/crop/3/0/796/449/800/0/0/0/34c40596f47f6a9452aadfac44be9dfe60e3f847cebcb09e51bfe55b6e1e/34c40596f47f6a9452aadfac44be9dfe60e3f847cebcb09e51bfe55b6e1e.jpeg.jpg', 'image_1600': '/attachments/54bec402ae994e5d8f9bf1e0cff69d40d7a63a70/store/crop/3/0/796/449/1600/0/0/0/34c40596f47f6a9452aadfac44be9dfe60e3f847cebcb09e51bfe55b6e1e/34c40596f47f6a9452aadfac44be9dfe60e3f847cebcb09e51bfe55b6e1e.jpeg.jpg', 'apply_blackout': 0}, 'path': '/news/society/2024-04-08/pasha-v-2024-godu-data-traditsii-chto-nelzya-delat-412921', 'rubric_title': 'Общество', 'rubric_path': '/news/society', 'type': 'Новость', 'authors': [], 'platform_title': 'Южно-Сахалинск сегодня', 'platform_host': 'https://sakhizdat.ru/'}, {'id': 412892, 'title': 'Теплая и ветреная погода ожидается на Сахалине 9 апреля', 'is_promo': False, 'show_authors': False, 'published_at': '2024-04-08T14:54:00.000+11:00', 'noindex_text': None, 'platform_id': 12, 'lightning': False, 'registration_area': 'bashkortostan', 'is_partners_matter': False, 'is_exclusive': False, 'has_video': False, 'has_audio': False, 'has_gallery': False, 'images_count': 1, 'lead': 'Газета «Южно-Сахалинск сегодня» публикует прогноз погоды на 9 апреля в Сахалинской области, составленный ФГБУ «Сахалинское УГМС».', 'kind': 'news_item', 'kind_path': '/news', 'image': {'author': None, 'source': 'loon.site', 'description': None, 'width': 799, 'height': 451, 'url': '/attachments/6ff5fe5d1da838b3d08a0ae2cdb35a574103c32d/store/crop/0/65/799/451/800/0/0/0/2e644599fe44713c83041010418aa4523240f69c08ca7bdc8c6e92bd5f3c/2e644599fe44713c83041010418aa4523240f69c08ca7bdc8c6e92bd5f3c.jpeg', 'image_90': '/attachments/6aef32b4a7a547b9fcc51ad0d6e50dd5354e33d5/store/crop/0/65/799/451/90/0/0/0/2e644599fe44713c83041010418aa4523240f69c08ca7bdc8c6e92bd5f3c/2e644599fe44713c83041010418aa4523240f69c08ca7bdc8c6e92bd5f3c.jpeg', 'image_250': '/attachments/8814b7bf50e0bbc2c0d47da73fd57ca926107402/store/crop/0/65/799/451/250/0/0/0/2e644599fe44713c83041010418aa4523240f69c08ca7bdc8c6e92bd5f3c/2e644599fe44713c83041010418aa4523240f69c08ca7bdc8c6e92bd5f3c.jpeg', 'image_800': '/attachments/6ff5fe5d1da838b3d08a0ae2cdb35a574103c32d/store/crop/0/65/799/451/800/0/0/0/2e644599fe44713c83041010418aa4523240f69c08ca7bdc8c6e92bd5f3c/2e644599fe44713c83041010418aa4523240f69c08ca7bdc8c6e92bd5f3c.jpeg', 'image_1600': '/attachments/5faefb1ce866cdde6cfe6c36ad45bd4367114512/store/crop/0/65/799/451/1600/0/0/0/2e644599fe44713c83041010418aa4523240f69c08ca7bdc8c6e92bd5f3c/2e644599fe44713c83041010418aa4523240f69c08ca7bdc8c6e92bd5f3c.jpeg', 'apply_blackout': 0}, 'path': '/news/society/2024-04-08/teplaya-i-vetrenaya-pogoda-ozhidaetsya-na-sahaline-9-aprelya-412892', 'rubric_title': 'Общество', 'rubric_path': '/news/society', 'type': 'Новость', 'authors': [], 'platform_title': 'Южно-Сахалинск сегодня', 'platform_host': 'https://sakhizdat.ru/'}, {'id': 412853, 'title': 'Народные приметы на 9 апреля 2024: что строго нельзя делать в этот день', 'is_promo': False, 'show_authors': False, 'published_at': '2024-04-08T12:38:00.000+11:00', 'noindex_text': None, 'platform_id': 12, 'lightning': False, 'registration_area': 'bashkortostan', 'is_partners_matter': False, 'is_exclusive': False, 'has_video': False, 'has_audio': False, 'has_gallery': False, 'images_count': 1, 'lead': '9 апреля 2024 года проходит народный праздник Матрена Настовица, которую также называют Полурепицей и церковный день памяти Матроны Солунской. Что нельзя делать в этот день? На какие приметы следует обратить внимание? Об этом вы узнаете в материале ниже.', 'kind': 'news_item', 'kind_path': '/news', 'image': {'author': None, 'source': 'loon.site', 'description': None, 'width': 800, 'height': 451, 'url': '/attachments/a44b97ecd745f83b2ff4f6743f953e1e77c8b6e4/store/crop/0/32/800/451/800/0/0/0/2e8a885ff0342b942a8eb937642c1457736e821f78a9315a23960d9f08a3/2e8a885ff0342b942a8eb937642c1457736e821f78a9315a23960d9f08a3.jpeg', 'image_90': '/attachments/21ae2461c2d9b99b9c6d789e30672ed8235a30ad/store/crop/0/32/800/451/90/0/0/0/2e8a885ff0342b942a8eb937642c1457736e821f78a9315a23960d9f08a3/2e8a885ff0342b942a8eb937642c1457736e821f78a9315a23960d9f08a3.jpeg', 'image_250': '/attachments/ee91c365425d5da7c3be6aea8f841b935f8a127e/store/crop/0/32/800/451/250/0/0/0/2e8a885ff0342b942a8eb937642c1457736e821f78a9315a23960d9f08a3/2e8a885ff0342b942a8eb937642c1457736e821f78a9315a23960d9f08a3.jpeg', 'image_800': '/attachments/a44b97ecd745f83b2ff4f6743f953e1e77c8b6e4/store/crop/0/32/800/451/800/0/0/0/2e8a885ff0342b942a8eb937642c1457736e821f78a9315a23960d9f08a3/2e8a885ff0342b942a8eb937642c1457736e821f78a9315a23960d9f08a3.jpeg', 'image_1600': '/attachments/82efb307ef745c5bf8cb9bafa59351e496c4d105/store/crop/0/32/800/451/1600/0/0/0/2e8a885ff0342b942a8eb937642c1457736e821f78a9315a23960d9f08a3/2e8a885ff0342b942a8eb937642c1457736e821f78a9315a23960d9f08a3.jpeg', 'apply_blackout': 0}, 'path': '/news/society/2024-04-08/narodnye-primety-na-9-aprelya-2024-chto-strogo-nelzya-delat-v-etot-den-412853', 'rubric_title': 'Общество', 'rubric_path': '/news/society', 'type': 'Новость', 'authors': [], 'platform_title': 'Южно-Сахалинск сегодня', 'platform_host': 'https://sakhizdat.ru/'}, {'id': 412754, 'title': 'Виктория Матвиенко: воспитатель должен научить детей общаться, дружить и прощать', 'is_promo': False, 'show_authors': True, 'published_at': '2024-04-08T10:28:00.000+11:00', 'noindex_text': None, 'platform_id': 12, 'lightning': False, 'registration_area': 'bashkortostan', 'is_partners_matter': False, 'is_exclusive': False, 'has_video': True, 'has_audio': False, 'has_gallery': True, 'images_count': 12, 'lead': 'Жюри муниципального этапа конкурса «Педагог года - 2024» , который традиционно прошел в Южно-Сахалинске,  отметило ее в специальной номинации «За сохранение культурных традиций». ', 'kind': 'article', 'kind_path': '/articles', 'image': {'author': None, 'source': None, 'description': None, 'width': 631, 'height': 356, 'url': '/attachments/20a2fd873f1675ee41d35bce025f35adf9b58d79/store/crop/84/0/631/356/800/0/0/0/2c98659daa0974b9334c652fcbcea445cd0649c311232bd9a9cb130714ee/2c98659daa0974b9334c652fcbcea445cd0649c311232bd9a9cb130714ee.jpeg.jpg', 'image_90': '/attachments/96955f96510ed9619513f54983f64f493af79eb6/store/crop/84/0/631/356/90/0/0/0/2c98659daa0974b9334c652fcbcea445cd0649c311232bd9a9cb130714ee/2c98659daa0974b9334c652fcbcea445cd0649c311232bd9a9cb130714ee.jpeg.jpg', 'image_250': '/attachments/084aca05b52a0bcf97a22637ad9bb8ef7caeba74/store/crop/84/0/631/356/250/0/0/0/2c98659daa0974b9334c652fcbcea445cd0649c311232bd9a9cb130714ee/2c98659daa0974b9334c652fcbcea445cd0649c311232bd9a9cb130714ee.jpeg.jpg', 'image_800': '/attachments/20a2fd873f1675ee41d35bce025f35adf9b58d79/store/crop/84/0/631/356/800/0/0/0/2c98659daa0974b9334c652fcbcea445cd0649c311232bd9a9cb130714ee/2c98659daa0974b9334c652fcbcea445cd0649c311232bd9a9cb130714ee.jpeg.jpg', 'image_1600': '/attachments/dd1466962ecff3c1fc22d2306133f5714b8cdfb4/store/crop/84/0/631/356/1600/0/0/0/2c98659daa0974b9334c652fcbcea445cd0649c311232bd9a9cb130714ee/2c98659daa0974b9334c652fcbcea445cd0649c311232bd9a9cb130714ee.jpeg.jpg', 'apply_blackout': 0}, 'path': '/articles/persona-1/2024-04-08/viktoriya-matvienko-vospitatel-dolzhen-nauchit-detey-obschatsya-druzhit-i-proschat-412754', 'rubric_title': 'Персона', 'rubric_path': '/articles/persona-1', 'type': 'Статья', 'authors': ['Анна Сухоребрик'], 'platform_title': 'Южно-Сахалинск сегодня', 'platform_host': 'https://sakhizdat.ru/'}, {'id': 412799, 'title': '8 апреля 2024: какие сегодня праздники отмечают', 'is_promo': False, 'show_authors': False, 'published_at': '2024-04-08T09:14:00.000+11:00', 'noindex_text': None, 'platform_id': 12, 'lightning': False, 'registration_area': 'bashkortostan', 'is_partners_matter': False, 'is_exclusive': False, 'has_video': False, 'has_audio': False, 'has_gallery': False, 'images_count': 1, 'lead': 'Газета «Южно-Сахалинск сегодня» рассказывает, какие праздники отмечаются в России и мире 8 апреля 2024 года.', 'kind': 'news_item', 'kind_path': '/news', 'image': {'author': None, 'source': 'loon.site', 'description': None, 'width': 800, 'height': 451, 'url': '/attachments/472c1e3d8e346eae46aeb9216f99285217c11722/store/crop/0/29/800/451/800/0/0/0/a27333b4d30cde13017a7963002617368a46ef72f40b13be4fbf826c877d/a27333b4d30cde13017a7963002617368a46ef72f40b13be4fbf826c877d.jpeg', 'image_90': '/attachments/3de83f6baa4fbdf46be8d981e06f03e82ab08c81/store/crop/0/29/800/451/90/0/0/0/a27333b4d30cde13017a7963002617368a46ef72f40b13be4fbf826c877d/a27333b4d30cde13017a7963002617368a46ef72f40b13be4fbf826c877d.jpeg', 'image_250': '/attachments/a643610fd5ddcd91cab17141206658180c0ecc4d/store/crop/0/29/800/451/250/0/0/0/a27333b4d30cde13017a7963002617368a46ef72f40b13be4fbf826c877d/a27333b4d30cde13017a7963002617368a46ef72f40b13be4fbf826c877d.jpeg', 'image_800': '/attachments/472c1e3d8e346eae46aeb9216f99285217c11722/store/crop/0/29/800/451/800/0/0/0/a27333b4d30cde13017a7963002617368a46ef72f40b13be4fbf826c877d/a27333b4d30cde13017a7963002617368a46ef72f40b13be4fbf826c877d.jpeg', 'image_1600': '/attachments/3a47600b38639734f81daaec355d22689bbabfa4/store/crop/0/29/800/451/1600/0/0/0/a27333b4d30cde13017a7963002617368a46ef72f40b13be4fbf826c877d/a27333b4d30cde13017a7963002617368a46ef72f40b13be4fbf826c877d.jpeg', 'apply_blackout': 0}, 'path': '/news/society/2024-04-08/8-aprelya-2024-kakie-segodnya-prazdniki-otmechayut-412799', 'rubric_title': 'Общество', 'rubric_path': '/news/society', 'type': 'Новость', 'authors': [], 'platform_title': 'Южно-Сахалинск сегодня', 'platform_host': 'https://sakhizdat.ru/'}, {'id': 412768, 'title': 'Гороскоп на 8 апреля 2024 года: советы астрологов на день', 'is_promo': False, 'show_authors': False, 'published_at': '2024-04-07T21:15:00.000+11:00', 'noindex_text': None, 'platform_id': 12, 'lightning': False, 'registration_area': 'bashkortostan', 'is_partners_matter': False, 'is_exclusive': False, 'has_video': False, 'has_audio': False, 'has_gallery': False, 'images_count': 1, 'lead': 'Газета «Южно-Сахалинск сегодня» публикует гороскоп для всех знаков зодиака на 8 апреля 2024 года.', 'kind': 'news_item', 'kind_path': '/news', 'image': {'author': None, 'source': 'pxhere', 'description': None, 'width': 800, 'height': 451, 'url': '/attachments/a8526ab99af6a33eb77289ffb1fdaeee4e2b356c/store/crop/0/71/800/451/800/0/0/0/917cb60069a1842f2c82a33bacaf2640da4345881ac2abb851c12b88c777/917cb60069a1842f2c82a33bacaf2640da4345881ac2abb851c12b88c777.jpeg.jpg', 'image_90': '/attachments/6e7d2eee24977c28ba56fc85aded6818d4961675/store/crop/0/71/800/451/90/0/0/0/917cb60069a1842f2c82a33bacaf2640da4345881ac2abb851c12b88c777/917cb60069a1842f2c82a33bacaf2640da4345881ac2abb851c12b88c777.jpeg.jpg', 'image_250': '/attachments/bb62c338c342a27de740f42953aa845667a97559/store/crop/0/71/800/451/250/0/0/0/917cb60069a1842f2c82a33bacaf2640da4345881ac2abb851c12b88c777/917cb60069a1842f2c82a33bacaf2640da4345881ac2abb851c12b88c777.jpeg.jpg', 'image_800': '/attachments/a8526ab99af6a33eb77289ffb1fdaeee4e2b356c/store/crop/0/71/800/451/800/0/0/0/917cb60069a1842f2c82a33bacaf2640da4345881ac2abb851c12b88c777/917cb60069a1842f2c82a33bacaf2640da4345881ac2abb851c12b88c777.jpeg.jpg', 'image_1600': '/attachments/1c684edd564bf75d520128b99fb40d40ed610410/store/crop/0/71/800/451/1600/0/0/0/917cb60069a1842f2c82a33bacaf2640da4345881ac2abb851c12b88c777/917cb60069a1842f2c82a33bacaf2640da4345881ac2abb851c12b88c777.jpeg.jpg', 'apply_blackout': 0}, 'path': '/news/society/2024-04-07/goroskop-na-8-aprelya-2024-goda-sovety-astrologov-na-den-412768', 'rubric_title': 'Общество', 'rubric_path': '/news/society', 'type': 'Новость', 'authors': [], 'platform_title': 'Южно-Сахалинск сегодня', 'platform_host': 'https://sakhizdat.ru/'}, {'id': 412758, 'title': 'Народные приметы на 8 апреля 2024: что строго нельзя делать в этот день', 'is_promo': False, 'show_authors': False, 'published_at': '2024-04-07T13:17:00.000+11:00', 'noindex_text': None, 'platform_id': 12, 'lightning': False, 'registration_area': 'bashkortostan', 'is_partners_matter': False, 'is_exclusive': False, 'has_video': False, 'has_audio': False, 'has_gallery': False, 'images_count': 1, 'lead': '8 апреля 2024 года проходит народный праздник Гавриил Благовест и церковный — Отдание праздника Благовещения Пресвятой Богородицы и Собор Архангела Гавриила. Что нельзя делать в этот день? На какие приметы следует обратить внимание? Об этом вы узнаете в материале ниже.', 'kind': 'news_item', 'kind_path': '/news', 'image': {'author': None, 'source': 'loon.site', 'description': None, 'width': 800, 'height': 451, 'url': '/attachments/666dde0254e28790323b9cf8b897223b9f0a541f/store/crop/0/79/800/451/800/0/0/0/607ded3bf7e80c9ae443cb962465705aa671c34fb2f9af39f1f40983eb01/607ded3bf7e80c9ae443cb962465705aa671c34fb2f9af39f1f40983eb01.jpeg', 'image_90': '/attachments/8e71e56ce92853852ee9dc8af4f5615f1a53398d/store/crop/0/79/800/451/90/0/0/0/607ded3bf7e80c9ae443cb962465705aa671c34fb2f9af39f1f40983eb01/607ded3bf7e80c9ae443cb962465705aa671c34fb2f9af39f1f40983eb01.jpeg', 'image_250': '/attachments/bf5c380527c8f235297bee2a10ab5dcf059f61f7/store/crop/0/79/800/451/250/0/0/0/607ded3bf7e80c9ae443cb962465705aa671c34fb2f9af39f1f40983eb01/607ded3bf7e80c9ae443cb962465705aa671c34fb2f9af39f1f40983eb01.jpeg', 'image_800': '/attachments/666dde0254e28790323b9cf8b897223b9f0a541f/store/crop/0/79/800/451/800/0/0/0/607ded3bf7e80c9ae443cb962465705aa671c34fb2f9af39f1f40983eb01/607ded3bf7e80c9ae443cb962465705aa671c34fb2f9af39f1f40983eb01.jpeg', 'image_1600': '/attachments/7b85176188fbfb5c2f67a61efeea3bca26086b0d/store/crop/0/79/800/451/1600/0/0/0/607ded3bf7e80c9ae443cb962465705aa671c34fb2f9af39f1f40983eb01/607ded3bf7e80c9ae443cb962465705aa671c34fb2f9af39f1f40983eb01.jpeg', 'apply_blackout': 0}, 'path': '/news/society/2024-04-07/narodnye-primety-na-8-aprelya-2024-chto-strogo-nelzya-delat-v-etot-den-412758', 'rubric_title': 'Общество', 'rubric_path': '/news/society', 'type': 'Новость', 'authors': [], 'platform_title': 'Южно-Сахалинск сегодня', 'platform_host': 'https://sakhizdat.ru/'}, {'id': 412665, 'title': 'Красивые открытки и картинки с Благовещением 2024 ', 'is_promo': False, 'show_authors': False, 'published_at': '2024-04-07T10:15:00.000+11:00', 'noindex_text': None, 'platform_id': 12, 'lightning': False, 'registration_area': 'bashkortostan', 'is_partners_matter': False, 'is_exclusive': False, 'has_video': False, 'has_audio': False, 'has_gallery': True, 'images_count': 8, 'lead': 'Ежегодно 7 апреля отмечается великий православный праздник - Благовещение Пресвятой Богородицы. По этому случаю газета «Южно-Сахалинск сегодня» подготовила красивые картинки и открытки.', 'kind': 'news_item', 'kind_path': '/news', 'image': {'author': None, 'source': 'bipbap.ru', 'description': None, 'width': 543, 'height': 544, 'url': '/attachments/bf916a601be977842093eba9858208656a886e9c/store/crop/0/2/543/544/800/0/0/0/563eb5700388326181a7f7f0c91681e5affbd8cdcc0ab07076535fc016ce/563eb5700388326181a7f7f0c91681e5affbd8cdcc0ab07076535fc016ce.jpeg.jpg', 'image_90': '/attachments/a8e083fc0e7c220175016102870feef1acb8903a/store/crop/0/2/543/544/90/0/0/0/563eb5700388326181a7f7f0c91681e5affbd8cdcc0ab07076535fc016ce/563eb5700388326181a7f7f0c91681e5affbd8cdcc0ab07076535fc016ce.jpeg.jpg', 'image_250': '/attachments/7a63a1098e4f50600daadff4a88a478c135286cf/store/crop/0/2/543/544/250/0/0/0/563eb5700388326181a7f7f0c91681e5affbd8cdcc0ab07076535fc016ce/563eb5700388326181a7f7f0c91681e5affbd8cdcc0ab07076535fc016ce.jpeg.jpg', 'image_800': '/attachments/bf916a601be977842093eba9858208656a886e9c/store/crop/0/2/543/544/800/0/0/0/563eb5700388326181a7f7f0c91681e5affbd8cdcc0ab07076535fc016ce/563eb5700388326181a7f7f0c91681e5affbd8cdcc0ab07076535fc016ce.jpeg.jpg', 'image_1600': '/attachments/db71a828b2d323899502f0f25274d8cd6f7b735f/store/crop/0/2/543/544/1600/0/0/0/563eb5700388326181a7f7f0c91681e5affbd8cdcc0ab07076535fc016ce/563eb5700388326181a7f7f0c91681e5affbd8cdcc0ab07076535fc016ce.jpeg.jpg', 'apply_blackout': 0}, 'path': '/news/society/2024-04-07/krasivye-otkrytki-i-kartinki-s-blagovescheniem-2024-412665', 'rubric_title': 'Общество', 'rubric_path': '/news/society', 'type': 'Новость', 'authors': [], 'platform_title': 'Южно-Сахалинск сегодня', 'platform_host': 'https://sakhizdat.ru/'}, {'id': 412733, 'title': 'Гороскоп на 7 апреля 2024 года: советы астрологов на день', 'is_promo': False, 'show_authors': False, 'published_at': '2024-04-06T22:34:00.000+11:00', 'noindex_text': None, 'platform_id': 12, 'lightning': False, 'registration_area': 'bashkortostan', 'is_partners_matter': False, 'is_exclusive': False, 'has_video': False, 'has_audio': False, 'has_gallery': False, 'images_count': 1, 'lead': 'Газета «Южно-Сахалинск сегодня» публикует гороскоп для всех знаков зодиака на 7 апреля 2024 года. ', 'kind': 'news_item', 'kind_path': '/news', 'image': {'author': None, 'source': 'loon.site', 'description': None, 'width': 800, 'height': 451, 'url': '/attachments/e22d0ffb859bc1f4d567c0138b6491475073acaf/store/crop/0/0/800/451/800/0/0/0/557da62e6946452b38cbb1b7c7d00ace4cdc3cff91b1b9da3517ad0da135/557da62e6946452b38cbb1b7c7d00ace4cdc3cff91b1b9da3517ad0da135.jpeg', 'image_90': '/attachments/e5c360de68e5f886337661abebd9d10d2b096b8d/store/crop/0/0/800/451/90/0/0/0/557da62e6946452b38cbb1b7c7d00ace4cdc3cff91b1b9da3517ad0da135/557da62e6946452b38cbb1b7c7d00ace4cdc3cff91b1b9da3517ad0da135.jpeg', 'image_250': '/attachments/ae747c5ad3b64efb289b2e8ad1aad9388301f176/store/crop/0/0/800/451/250/0/0/0/557da62e6946452b38cbb1b7c7d00ace4cdc3cff91b1b9da3517ad0da135/557da62e6946452b38cbb1b7c7d00ace4cdc3cff91b1b9da3517ad0da135.jpeg', 'image_800': '/attachments/e22d0ffb859bc1f4d567c0138b6491475073acaf/store/crop/0/0/800/451/800/0/0/0/557da62e6946452b38cbb1b7c7d00ace4cdc3cff91b1b9da3517ad0da135/557da62e6946452b38cbb1b7c7d00ace4cdc3cff91b1b9da3517ad0da135.jpeg', 'image_1600': '/attachments/59c942e58a36aaa058fe03fd9cc125f1f1b46b4b/store/crop/0/0/800/451/1600/0/0/0/557da62e6946452b38cbb1b7c7d00ace4cdc3cff91b1b9da3517ad0da135/557da62e6946452b38cbb1b7c7d00ace4cdc3cff91b1b9da3517ad0da135.jpeg', 'apply_blackout': 0}, 'path': '/news/society/2024-04-06/goroskop-na-7-aprelya-2024-goda-sovety-astrologov-na-den-412733', 'rubric_title': 'Общество', 'rubric_path': '/news/society', 'type': 'Новость', 'authors': [], 'platform_title': 'Южно-Сахалинск сегодня', 'platform_host': 'https://sakhizdat.ru/'}, {'id': 412551, 'title': 'Народные приметы на 7 апреля 2024: что строго нельзя делать в этот день', 'is_promo': False, 'show_authors': False, 'published_at': '2024-04-06T16:00:00.000+11:00', 'noindex_text': None, 'platform_id': 12, 'lightning': False, 'registration_area': 'bashkortostan', 'is_partners_matter': False, 'is_exclusive': False, 'has_video': False, 'has_audio': False, 'has_gallery': False, 'images_count': 1, 'lead': '7 апреля 2024 года проходит церковный праздник Благовещение Пресвятой Богородицы. Что нельзя делать в этот день? На какие приметы следует обратить внимание? Об этом вы узнаете в материале ниже.', 'kind': 'news_item', 'kind_path': '/news', 'image': {'author': None, 'source': 'loon.site', 'description': None, 'width': 794, 'height': 449, 'url': '/attachments/d7c6e5cf53884c7579d9c9445564bac84251e599/store/crop/0/0/794/449/800/0/0/0/712f42ed3909c704e819ae1632a7d8a384b4de00e746185bb01b613d7d5e/712f42ed3909c704e819ae1632a7d8a384b4de00e746185bb01b613d7d5e.jpeg', 'image_90': '/attachments/98b405e33d8288a201d7c919107d696c39cf2a2b/store/crop/0/0/794/449/90/0/0/0/712f42ed3909c704e819ae1632a7d8a384b4de00e746185bb01b613d7d5e/712f42ed3909c704e819ae1632a7d8a384b4de00e746185bb01b613d7d5e.jpeg', 'image_250': '/attachments/c755f5d43d95a61c198de6fd85d422cec88f9829/store/crop/0/0/794/449/250/0/0/0/712f42ed3909c704e819ae1632a7d8a384b4de00e746185bb01b613d7d5e/712f42ed3909c704e819ae1632a7d8a384b4de00e746185bb01b613d7d5e.jpeg', 'image_800': '/attachments/d7c6e5cf53884c7579d9c9445564bac84251e599/store/crop/0/0/794/449/800/0/0/0/712f42ed3909c704e819ae1632a7d8a384b4de00e746185bb01b613d7d5e/712f42ed3909c704e819ae1632a7d8a384b4de00e746185bb01b613d7d5e.jpeg', 'image_1600': '/attachments/2f506983098e6eb5ad328b9d5bbc53d63c39fe4e/store/crop/0/0/794/449/1600/0/0/0/712f42ed3909c704e819ae1632a7d8a384b4de00e746185bb01b613d7d5e/712f42ed3909c704e819ae1632a7d8a384b4de00e746185bb01b613d7d5e.jpeg', 'apply_blackout': 0}, 'path': '/news/society/2024-04-06/narodnye-primety-na-7-aprelya-2024-chto-strogo-nelzya-delat-v-etot-den-412551', 'rubric_title': 'Общество', 'rubric_path': '/news/society', 'type': 'Новость', 'authors': [], 'platform_title': 'Южно-Сахалинск сегодня', 'platform_host': 'https://sakhizdat.ru/'}, {'id': 412494, 'title': 'Гороскоп на 6 апреля 2024 года: советы астрологов на день', 'is_promo': False, 'show_authors': False, 'published_at': '2024-04-05T21:15:00.000+11:00', 'noindex_text': None, 'platform_id': 12, 'lightning': False, 'registration_area': 'bashkortostan', 'is_partners_matter': False, 'is_exclusive': False, 'has_video': False, 'has_audio': False, 'has_gallery': False, 'images_count': 1, 'lead': 'Газета «Южно-Сахалинск сегодня» публикует гороскоп для всех знаков зодиака на 6 апреля 2024 года. ', 'kind': 'news_item', 'kind_path': '/news', 'image': {'author': None, 'source': 'pxhere.com', 'description': None, 'width': 800, 'height': 451, 'url': '/attachments/e4310a01223fe7f9a72a77f9a035e1bbe372864f/store/crop/0/0/800/451/800/0/0/0/bfc2ce0bd2185b947a87896593a835d8d1edef6617b1fc93bd483ad44bee/bfc2ce0bd2185b947a87896593a835d8d1edef6617b1fc93bd483ad44bee.jpeg.jpg', 'image_90': '/attachments/4223ecc9854a290da3aff7b88a62d1fb68ba1211/store/crop/0/0/800/451/90/0/0/0/bfc2ce0bd2185b947a87896593a835d8d1edef6617b1fc93bd483ad44bee/bfc2ce0bd2185b947a87896593a835d8d1edef6617b1fc93bd483ad44bee.jpeg.jpg', 'image_250': '/attachments/3676f5e33fa4e7f3ed9f997e2c15a70e362c3337/store/crop/0/0/800/451/250/0/0/0/bfc2ce0bd2185b947a87896593a835d8d1edef6617b1fc93bd483ad44bee/bfc2ce0bd2185b947a87896593a835d8d1edef6617b1fc93bd483ad44bee.jpeg.jpg', 'image_800': '/attachments/e4310a01223fe7f9a72a77f9a035e1bbe372864f/store/crop/0/0/800/451/800/0/0/0/bfc2ce0bd2185b947a87896593a835d8d1edef6617b1fc93bd483ad44bee/bfc2ce0bd2185b947a87896593a835d8d1edef6617b1fc93bd483ad44bee.jpeg.jpg', 'image_1600': '/attachments/21847fbe13400fa8af48777d7f944e10471e16fc/store/crop/0/0/800/451/1600/0/0/0/bfc2ce0bd2185b947a87896593a835d8d1edef6617b1fc93bd483ad44bee/bfc2ce0bd2185b947a87896593a835d8d1edef6617b1fc93bd483ad44bee.jpeg.jpg', 'apply_blackout': 0}, 'path': '/news/society/2024-04-05/goroskop-na-6-aprelya-2024-goda-sovety-astrologov-na-den-412494', 'rubric_title': 'Общество', 'rubric_path': '/news/society', 'type': 'Новость', 'authors': [], 'platform_title': 'Южно-Сахалинск сегодня', 'platform_host': 'https://sakhizdat.ru/'}, {'id': 412639, 'title': 'Точный гороскоп на неделю с 8 по 14 апреля 2024 года', 'is_promo': False, 'show_authors': False, 'published_at': '2024-04-05T18:15:00.000+11:00', 'noindex_text': None, 'platform_id': 12, 'lightning': False, 'registration_area': 'bashkortostan', 'is_partners_matter': False, 'is_exclusive': False, 'has_video': False, 'has_audio': False, 'has_gallery': False, 'images_count': 1, 'lead': 'Газета «Южно-Сахалинск сегодня» публикует астрологический прогноз для всех знаков зодиака на неделю с 8 по 16 апреля 2024 года.', 'kind': 'news_item', 'kind_path': '/news', 'image': {'author': None, 'source': 'loon.site', 'description': None, 'width': 800, 'height': 451, 'url': '/attachments/b93f9746cfe8b5fa6f69af5ce4ce11a73d8c1907/store/crop/0/131/800/451/800/0/0/0/dae5b3b79cb949187ee2be8ee24df32c831b32d2f0511944cbf716280c88/dae5b3b79cb949187ee2be8ee24df32c831b32d2f0511944cbf716280c88.jpeg', 'image_90': '/attachments/54ddd692f7c02b97ac178a169f4cb8bb01aa009e/store/crop/0/131/800/451/90/0/0/0/dae5b3b79cb949187ee2be8ee24df32c831b32d2f0511944cbf716280c88/dae5b3b79cb949187ee2be8ee24df32c831b32d2f0511944cbf716280c88.jpeg', 'image_250': '/attachments/dd8c382943e21996500f803c201829ce0a74662d/store/crop/0/131/800/451/250/0/0/0/dae5b3b79cb949187ee2be8ee24df32c831b32d2f0511944cbf716280c88/dae5b3b79cb949187ee2be8ee24df32c831b32d2f0511944cbf716280c88.jpeg', 'image_800': '/attachments/b93f9746cfe8b5fa6f69af5ce4ce11a73d8c1907/store/crop/0/131/800/451/800/0/0/0/dae5b3b79cb949187ee2be8ee24df32c831b32d2f0511944cbf716280c88/dae5b3b79cb949187ee2be8ee24df32c831b32d2f0511944cbf716280c88.jpeg', 'image_1600': '/attachments/4c1a54fa606aea1a011ba7547bdb1107da48f57b/store/crop/0/131/800/451/1600/0/0/0/dae5b3b79cb949187ee2be8ee24df32c831b32d2f0511944cbf716280c88/dae5b3b79cb949187ee2be8ee24df32c831b32d2f0511944cbf716280c88.jpeg', 'apply_blackout': 0}, 'path': '/news/society/2024-04-05/tochnyy-goroskop-na-nedelyu-s-8-po-14-aprelya-2024-goda-412639', 'rubric_title': 'Общество', 'rubric_path': '/news/society', 'type': 'Новость', 'authors': [], 'platform_title': 'Южно-Сахалинск сегодня', 'platform_host': 'https://sakhizdat.ru/'}, {'id': 412726, 'title': 'Пациенток и врачей женской консультации в Южно-Сахалинске поздравили накануне  Благовещения', 'is_promo': False, 'show_authors': False, 'published_at': '2024-04-05T17:04:00.000+11:00', 'noindex_text': None, 'platform_id': 12, 'lightning': False, 'registration_area': 'bashkortostan', 'is_partners_matter': False, 'is_exclusive': False, 'has_video': False, 'has_audio': False, 'has_gallery': False, 'images_count': 5, 'lead': 'В Южно-Сахалинске в преддверии православного праздника Благовещение запустили необычную акцию. Утром 5 апреля более 50 пациенток и врачей в женской консультации встречали с цветами и иконами.', 'kind': 'news_item', 'kind_path': '/news', 'image': {'author': None, 'source': None, 'description': None, 'width': 800, 'height': 451, 'url': '/attachments/830d864c2fb1b03dc432dcb21e10a6bbc016a48a/store/crop/0/132/800/451/800/0/0/0/b0ec744960e66b938d95432f1b0cb7153882d6ea4175870c0e16a79a037a/b0ec744960e66b938d95432f1b0cb7153882d6ea4175870c0e16a79a037a.jpeg.jpg', 'image_90': '/attachments/edd999a7aba032d108d835c0f94ec7295a644b9d/store/crop/0/132/800/451/90/0/0/0/b0ec744960e66b938d95432f1b0cb7153882d6ea4175870c0e16a79a037a/b0ec744960e66b938d95432f1b0cb7153882d6ea4175870c0e16a79a037a.jpeg.jpg', 'image_250': '/attachments/4febb047ca9154cec11fa0005256f58284b1df05/store/crop/0/132/800/451/250/0/0/0/b0ec744960e66b938d95432f1b0cb7153882d6ea4175870c0e16a79a037a/b0ec744960e66b938d95432f1b0cb7153882d6ea4175870c0e16a79a037a.jpeg.jpg', 'image_800': '/attachments/830d864c2fb1b03dc432dcb21e10a6bbc016a48a/store/crop/0/132/800/451/800/0/0/0/b0ec744960e66b938d95432f1b0cb7153882d6ea4175870c0e16a79a037a/b0ec744960e66b938d95432f1b0cb7153882d6ea4175870c0e16a79a037a.jpeg.jpg', 'image_1600': '/attachments/064badc300a72f69f09a8f356dfe1a9760283225/store/crop/0/132/800/451/1600/0/0/0/b0ec744960e66b938d95432f1b0cb7153882d6ea4175870c0e16a79a037a/b0ec744960e66b938d95432f1b0cb7153882d6ea4175870c0e16a79a037a.jpeg.jpg', 'apply_blackout': 0}, 'path': '/news/society/2024-04-05/patsientok-i-vrachey-zhenskoy-konsultatsii-v-yuzhno-sahalinske-pozdravili-nakanune-blagovescheniya-412726', 'rubric_title': 'Общество', 'rubric_path': '/news/society', 'type': 'Новость', 'authors': [], 'platform_title': 'Южно-Сахалинск сегодня', 'platform_host': 'https://sakhizdat.ru/'}, {'id': 412590, 'title': 'Коренным малочисленным народам Сахалина предложили образовательную программу', 'is_promo': False, 'show_authors': False, 'published_at': '2024-04-05T16:17:05.000+11:00', 'noindex_text': None, 'platform_id': 12, 'lightning': False, 'registration_area': 'bashkortostan', 'is_partners_matter': False, 'is_exclusive': False, 'has_video': False, 'has_audio': False, 'has_gallery': False, 'images_count': 1, 'lead': 'Открыт третий сезон Всероссийской конкурсной образовательный программы «Коренные малочисленные народы России. Школа общественной дипломатии» – программы развития экспертного потенциала коренных малочисленных народов.', 'kind': 'news_item', 'kind_path': '/news', 'image': {'author': None, 'source': None, 'description': None, 'width': 640, 'height': 361, 'url': '/attachments/2a78eee0d7842d0d5751a39b50bd693c5dab9994/store/crop/27/0/640/361/800/0/0/0/d6ad8b29693c99d7ed0e8677b46334bbc26c3daaeb71fe1d52ad39ee24f7/d6ad8b29693c99d7ed0e8677b46334bbc26c3daaeb71fe1d52ad39ee24f7.jpeg.jpg', 'image_90': '/attachments/9a29e34584c3211561ddcd014a443e4410587fd9/store/crop/27/0/640/361/90/0/0/0/d6ad8b29693c99d7ed0e8677b46334bbc26c3daaeb71fe1d52ad39ee24f7/d6ad8b29693c99d7ed0e8677b46334bbc26c3daaeb71fe1d52ad39ee24f7.jpeg.jpg', 'image_250': '/attachments/96377315aeb62e8bf2a56fdd4ebb8cbadd9276e0/store/crop/27/0/640/361/250/0/0/0/d6ad8b29693c99d7ed0e8677b46334bbc26c3daaeb71fe1d52ad39ee24f7/d6ad8b29693c99d7ed0e8677b46334bbc26c3daaeb71fe1d52ad39ee24f7.jpeg.jpg', 'image_800': '/attachments/2a78eee0d7842d0d5751a39b50bd693c5dab9994/store/crop/27/0/640/361/800/0/0/0/d6ad8b29693c99d7ed0e8677b46334bbc26c3daaeb71fe1d52ad39ee24f7/d6ad8b29693c99d7ed0e8677b46334bbc26c3daaeb71fe1d52ad39ee24f7.jpeg.jpg', 'image_1600': '/attachments/dcf66b9295dd9d192f2e00933b13702a5e3ba4aa/store/crop/27/0/640/361/1600/0/0/0/d6ad8b29693c99d7ed0e8677b46334bbc26c3daaeb71fe1d52ad39ee24f7/d6ad8b29693c99d7ed0e8677b46334bbc26c3daaeb71fe1d52ad39ee24f7.jpeg.jpg', 'apply_blackout': 0}, 'path': '/news/society/2024-04-05/korennym-malochislennym-narodam-sahalina-predlozhili-obrazovatelnuyu-programmu-412590', 'rubric_title': 'Общество', 'rubric_path': '/news/society', 'type': 'Новость', 'authors': [], 'platform_title': 'Южно-Сахалинск сегодня', 'platform_host': 'https://sakhizdat.ru/'}, {'id': 412569, 'title': 'Мокрый снег и порывистый ветер: прогноз погоды в Сахалинской области на неделю', 'is_promo': False, 'show_authors': False, 'published_at': '2024-04-05T16:16:00.000+11:00', 'noindex_text': None, 'platform_id': 12, 'lightning': False, 'registration_area': 'bashkortostan', 'is_partners_matter': False, 'is_exclusive': False, 'has_video': False, 'has_audio': False, 'has_gallery': False, 'images_count': 1, 'lead': 'Газета «Южно-Сахалинск сегодня» публикует прогноз погоды на неделю с 6 по 12 апреля в Сахалинской области, составленный ФГБУ «Сахалинское УГМС».', 'kind': 'news_item', 'kind_path': '/news', 'image': {'author': None, 'source': 'unsplash.com / @idovitz', 'description': None, 'width': 799, 'height': 451, 'url': '/attachments/53e79e9a57be8dca1403c4cd15b4a22b4653116b/store/crop/0/66/799/451/800/0/0/0/19d00bba0a879dc42e0060090e5884746a01ead9e364d3b5e8d1d6d21cd9/19d00bba0a879dc42e0060090e5884746a01ead9e364d3b5e8d1d6d21cd9.jpeg.jpg', 'image_90': '/attachments/3737faa6c195d4c56fbbb474cfa788b05b0cb206/store/crop/0/66/799/451/90/0/0/0/19d00bba0a879dc42e0060090e5884746a01ead9e364d3b5e8d1d6d21cd9/19d00bba0a879dc42e0060090e5884746a01ead9e364d3b5e8d1d6d21cd9.jpeg.jpg', 'image_250': '/attachments/c05a47255e77acb82111a183db590044f3010fc0/store/crop/0/66/799/451/250/0/0/0/19d00bba0a879dc42e0060090e5884746a01ead9e364d3b5e8d1d6d21cd9/19d00bba0a879dc42e0060090e5884746a01ead9e364d3b5e8d1d6d21cd9.jpeg.jpg', 'image_800': '/attachments/53e79e9a57be8dca1403c4cd15b4a22b4653116b/store/crop/0/66/799/451/800/0/0/0/19d00bba0a879dc42e0060090e5884746a01ead9e364d3b5e8d1d6d21cd9/19d00bba0a879dc42e0060090e5884746a01ead9e364d3b5e8d1d6d21cd9.jpeg.jpg', 'image_1600': '/attachments/3b6d4cbf6ce1d01ab432bd4d5d76ac70fb6b9bff/store/crop/0/66/799/451/1600/0/0/0/19d00bba0a879dc42e0060090e5884746a01ead9e364d3b5e8d1d6d21cd9/19d00bba0a879dc42e0060090e5884746a01ead9e364d3b5e8d1d6d21cd9.jpeg.jpg', 'apply_blackout': 0}, 'path': '/news/society/2024-04-05/mokryy-sneg-i-poryvistyy-veter-prognoz-pogody-v-sahalinskoy-oblasti-na-nedelyu-412569', 'rubric_title': 'Общество', 'rubric_path': '/news/society', 'type': 'Новость', 'authors': [], 'platform_title': 'Южно-Сахалинск сегодня', 'platform_host': 'https://sakhizdat.ru/'}, {'id': 412517, 'title': 'Народные приметы на 6 апреля 2024: что строго нельзя делать в этот день', 'is_promo': False, 'show_authors': False, 'published_at': '2024-04-05T12:14:00.000+11:00', 'noindex_text': None, 'platform_id': 12, 'lightning': False, 'registration_area': 'bashkortostan', 'is_partners_matter': False, 'is_exclusive': False, 'has_video': False, 'has_audio': False, 'has_gallery': False, 'images_count': 1, 'lead': '6 апреля 2024 года проходит народный праздник Артемон — дери полоз (Артемьев день) и церковный день памяти святителя Артемия Солунского. Что нельзя делать в этот день? На какие приметы следует обратить внимание? Об этом вы узнаете в материале ниже.', 'kind': 'news_item', 'kind_path': '/news', 'image': {'author': None, 'source': 'unsplash.com / @nanichkar', 'description': None, 'width': 800, 'height': 451, 'url': '/attachments/d6dfc38433f1f242ba5ce294eea78ebe9cc195fb/store/crop/0/86/800/451/800/0/0/0/71eeee31ee6d39154edfde82d0e17fb7091e51f96b2d9a61d29f88de0e36/71eeee31ee6d39154edfde82d0e17fb7091e51f96b2d9a61d29f88de0e36.jpeg.jpg', 'image_90': '/attachments/fd3dc55b9458c9047915499eff7eaa6972914b05/store/crop/0/86/800/451/90/0/0/0/71eeee31ee6d39154edfde82d0e17fb7091e51f96b2d9a61d29f88de0e36/71eeee31ee6d39154edfde82d0e17fb7091e51f96b2d9a61d29f88de0e36.jpeg.jpg', 'image_250': '/attachments/08941f051986b19df8402807f171235351cf18af/store/crop/0/86/800/451/250/0/0/0/71eeee31ee6d39154edfde82d0e17fb7091e51f96b2d9a61d29f88de0e36/71eeee31ee6d39154edfde82d0e17fb7091e51f96b2d9a61d29f88de0e36.jpeg.jpg', 'image_800': '/attachments/d6dfc38433f1f242ba5ce294eea78ebe9cc195fb/store/crop/0/86/800/451/800/0/0/0/71eeee31ee6d39154edfde82d0e17fb7091e51f96b2d9a61d29f88de0e36/71eeee31ee6d39154edfde82d0e17fb7091e51f96b2d9a61d29f88de0e36.jpeg.jpg', 'image_1600': '/attachments/b5d34ba3f892030c72c4b36274f1bf156538ebe3/store/crop/0/86/800/451/1600/0/0/0/71eeee31ee6d39154edfde82d0e17fb7091e51f96b2d9a61d29f88de0e36/71eeee31ee6d39154edfde82d0e17fb7091e51f96b2d9a61d29f88de0e36.jpeg.jpg', 'apply_blackout': 0}, 'path': '/news/society/2024-04-05/narodnye-primety-na-6-aprelya-2024-chto-strogo-nelzya-delat-v-etot-den-412517', 'rubric_title': 'Общество', 'rubric_path': '/news/society', 'type': 'Новость', 'authors': [], 'platform_title': 'Южно-Сахалинск сегодня', 'platform_host': 'https://sakhizdat.ru/'}, {'id': 412502, 'title': 'Представители женского сообщества на Сахалине обсудили, как предупредить рак и стать счастливее', 'is_promo': False, 'show_authors': False, 'published_at': '2024-04-05T11:03:00.000+11:00', 'noindex_text': None, 'platform_id': 12, 'lightning': False, 'registration_area': 'bashkortostan', 'is_partners_matter': False, 'is_exclusive': False, 'has_video': False, 'has_audio': False, 'has_gallery': False, 'images_count': 4, 'lead': ' Южно-Сахалинске 4 апреля представители островитянки провели круглый стол «Мы делаем жизнь лучше – своими руками». ', 'kind': 'news_item', 'kind_path': '/news', 'image': {'author': None, 'source': None, 'description': None, 'width': 796, 'height': 450, 'url': '/attachments/816359305ee9c06659dc2c3639b6da2f8d2ca4b6/store/crop/0/7/796/450/800/0/0/0/f25f356ec17979b8226c4846e68151ca7937330f2659810282621a92cb75/f25f356ec17979b8226c4846e68151ca7937330f2659810282621a92cb75.jpeg.jpg', 'image_90': '/attachments/a8d8ebb5503350bb34be31f9d9e0298f826f0ffe/store/crop/0/7/796/450/90/0/0/0/f25f356ec17979b8226c4846e68151ca7937330f2659810282621a92cb75/f25f356ec17979b8226c4846e68151ca7937330f2659810282621a92cb75.jpeg.jpg', 'image_250': '/attachments/469aac8b291630cbf5691d1c709543f47048cfc6/store/crop/0/7/796/450/250/0/0/0/f25f356ec17979b8226c4846e68151ca7937330f2659810282621a92cb75/f25f356ec17979b8226c4846e68151ca7937330f2659810282621a92cb75.jpeg.jpg', 'image_800': '/attachments/816359305ee9c06659dc2c3639b6da2f8d2ca4b6/store/crop/0/7/796/450/800/0/0/0/f25f356ec17979b8226c4846e68151ca7937330f2659810282621a92cb75/f25f356ec17979b8226c4846e68151ca7937330f2659810282621a92cb75.jpeg.jpg', 'image_1600': '/attachments/d2360fd7b36d309db317abfd4a91d852e1a2a9a7/store/crop/0/7/796/450/1600/0/0/0/f25f356ec17979b8226c4846e68151ca7937330f2659810282621a92cb75/f25f356ec17979b8226c4846e68151ca7937330f2659810282621a92cb75.jpeg.jpg', 'apply_blackout': 0}, 'path': '/news/meditsina/2024-04-05/predstaviteli-zhenskogo-soobschestva-na-sahaline-obsudili-kak-predupredit-rak-i-stat-schastlivee-412502', 'rubric_title': 'Медицина', 'rubric_path': '/news/meditsina', 'type': 'Новость', 'authors': [], 'platform_title': 'Южно-Сахалинск сегодня', 'platform_host': 'https://sakhizdat.ru/'}, {'id': 412437, 'title': 'Тест: только самый начитанный человек сможет набрать 8/8 баллов', 'is_promo': False, 'show_authors': False, 'published_at': '2024-04-05T09:59:00.000+11:00', 'noindex_text': None, 'platform_id': 12, 'lightning': False, 'registration_area': 'bashkortostan', 'is_partners_matter': False, 'is_exclusive': False, 'has_video': False, 'has_audio': False, 'has_gallery': False, 'images_count': 1, 'lead': 'Если вы каждый день проводите за прочтением книг, то вы однозначно справитесь с этими вопросами. Желаем успехов!', 'kind': 'news_item', 'kind_path': '/news', 'image': {'author': None, 'source': 'loon.site', 'description': None, 'width': 800, 'height': 451, 'url': '/attachments/67284589a5d36a6eada88331a822e3a30d06a865/store/crop/0/78/800/451/800/0/0/0/6fa2a66911158ec75e3ff5aed55716086d996f6b382e51aeafb7c26daf32/6fa2a66911158ec75e3ff5aed55716086d996f6b382e51aeafb7c26daf32.jpeg', 'image_90': '/attachments/6c0c6e48f9c65fcf53574df38ccdc6c84583e1ef/store/crop/0/78/800/451/90/0/0/0/6fa2a66911158ec75e3ff5aed55716086d996f6b382e51aeafb7c26daf32/6fa2a66911158ec75e3ff5aed55716086d996f6b382e51aeafb7c26daf32.jpeg', 'image_250': '/attachments/500826419d9154123d564b624c5486688532e61c/store/crop/0/78/800/451/250/0/0/0/6fa2a66911158ec75e3ff5aed55716086d996f6b382e51aeafb7c26daf32/6fa2a66911158ec75e3ff5aed55716086d996f6b382e51aeafb7c26daf32.jpeg', 'image_800': '/attachments/67284589a5d36a6eada88331a822e3a30d06a865/store/crop/0/78/800/451/800/0/0/0/6fa2a66911158ec75e3ff5aed55716086d996f6b382e51aeafb7c26daf32/6fa2a66911158ec75e3ff5aed55716086d996f6b382e51aeafb7c26daf32.jpeg', 'image_1600': '/attachments/3121f2695765ece7ca8ca7537bdefc08ab480c4b/store/crop/0/78/800/451/1600/0/0/0/6fa2a66911158ec75e3ff5aed55716086d996f6b382e51aeafb7c26daf32/6fa2a66911158ec75e3ff5aed55716086d996f6b382e51aeafb7c26daf32.jpeg', 'apply_blackout': 0}, 'path': '/news/society/2024-04-05/test-tolko-samyy-nachitannyy-chelovek-smozhet-nabrat-8-8-ballov-412437', 'rubric_title': 'Общество', 'rubric_path': '/news/society', 'type': 'Новость', 'authors': [], 'platform_title': 'Южно-Сахалинск сегодня', 'platform_host': 'https://sakhizdat.ru/'}], 'platform': {'platform_title': 'Южно-Сахалинск сегодня', 'platform_id': 12}}\n"
     ]
    }
   ],
   "source": [
    "for type_link, links in settings.news_link.items():\n",
    "    for link in links:\n",
    "        if type_link == 'mun':\n",
    "            content = get_news_data(link + '/api/site/matters')\n",
    "            print(content)\n",
    "            break\n",
    "            get_actual_news(content)\n",
    "        elif type_link == 'reg':\n",
    "            pass\n",
    "        else:\n",
    "            raise f'Неожиданный тип новостных порталов: {type_link}'"
   ]
  },
  {
   "cell_type": "markdown",
   "metadata": {},
   "source": [
    "### Реализация проверки даты \n",
    "путем прибавления к дате публикации +1 день и сравнение с текущим днем"
   ]
  },
  {
   "cell_type": "code",
   "execution_count": 54,
   "metadata": {},
   "outputs": [
    {
     "name": "stdout",
     "output_type": "stream",
     "text": [
      "False\n"
     ]
    }
   ],
   "source": [
    "from datetime import datetime, timedelta, timezone\n",
    "print((datetime.fromisoformat(content['matters'][3]['published_at'])+ timedelta(days=1))> datetime.now(tz=timezone.utc))"
   ]
  },
  {
   "cell_type": "code",
   "execution_count": 51,
   "metadata": {},
   "outputs": [
    {
     "data": {
      "text/plain": [
       "datetime.datetime(2024, 4, 9, 5, 48, 28, 644156, tzinfo=datetime.timezone.utc)"
      ]
     },
     "execution_count": 51,
     "metadata": {},
     "output_type": "execute_result"
    }
   ],
   "source": [
    "datetime.now(tz=timezone.utc)"
   ]
  },
  {
   "cell_type": "markdown",
   "metadata": {},
   "source": [
    "### Запись полученных данных в pydantic модель"
   ]
  },
  {
   "cell_type": "code",
   "execution_count": 79,
   "metadata": {},
   "outputs": [],
   "source": [
    "import models.pydantic_mun_model\n",
    "import importlib\n",
    "\n",
    "importlib.reload(models.pydantic_mun_model)\n",
    "\n",
    "from models.pydantic_mun_model import News\n",
    "\n",
    "new_dict = {}"
   ]
  },
  {
   "cell_type": "code",
   "execution_count": 80,
   "metadata": {},
   "outputs": [
    {
     "name": "stdout",
     "output_type": "stream",
     "text": [
      "{'path': '/news/society/2024-04-09/9-aprelya-2024-kakie-segodnya-prazdniki-otmechayut-413020', 'title': '9 апреля 2024: какие сегодня праздники отмечают', 'published_at': '2024-04-09T09:30:00.000+11:00', 'images_count': 1, 'lead': 'Газета «Южно-Сахалинск сегодня» рассказывает, какие праздники отмечаются в России и мире 9 апреля 2024 года.'}\n"
     ]
    }
   ],
   "source": [
    "new_dict['path'] = content['matters'][0]['path']\n",
    "new_dict['title']  = content['matters'][0]['title']\n",
    "new_dict['published_at'] = content['matters'][0]['published_at']\n",
    "new_dict['images_count'] = content['matters'][0]['images_count']\n",
    "new_dict['lead'] = content['matters'][0]['lead']\n",
    "\n",
    "new_news = News(**new_dict)\n"
   ]
  },
  {
   "cell_type": "code",
   "execution_count": 100,
   "metadata": {},
   "outputs": [],
   "source": [
    "# Создание объекта без выборки словаря\n",
    "cur_news = News(**content['matters'][0])"
   ]
  },
  {
   "cell_type": "markdown",
   "metadata": {},
   "source": [
    "### Получение статьи"
   ]
  },
  {
   "cell_type": "code",
   "execution_count": 95,
   "metadata": {},
   "outputs": [
    {
     "name": "stdout",
     "output_type": "stream",
     "text": [
      "https://sakhizdat.ru/api/site/matters/news/society/2024-04-09/9-aprelya-2024-kakie-segodnya-prazdniki-otmechayut-413020\n"
     ]
    }
   ],
   "source": [
    "# получение ссылки\n",
    "article_link = link +'api/site/matters'+ new_news.path\n",
    "# получение данных с сылки\n",
    "article_data = requests.get(article_link)\n",
    "\n",
    "if article_data.status_code == 200:\n",
    "    article_json = article_data.json()\n",
    "else:\n",
    "    print(article_data)"
   ]
  },
  {
   "cell_type": "code",
   "execution_count": 117,
   "metadata": {},
   "outputs": [],
   "source": [
    "importlib.reload(models.pydantic_mun_model)\n",
    "\n",
    "from models.pydantic_mun_model import Article\n",
    "\n",
    "cur_article = Article(**article_json)"
   ]
  },
  {
   "cell_type": "code",
   "execution_count": 104,
   "metadata": {},
   "outputs": [
    {
     "name": "stdout",
     "output_type": "stream",
     "text": [
      "title='9 апреля 2024: какие сегодня праздники отмечают' path='/news/society/2024-04-09/9-aprelya-2024-kakie-segodnya-prazdniki-otmechayut-413020' published_at=datetime.datetime(2024, 4, 9, 9, 30, tzinfo=TzInfo(+11:00)) images_count=1 lead='Газета «Южно-Сахалинск сегодня» рассказывает, какие праздники отмечаются в России и мире 9 апреля 2024 года.' article=Article(title='9 апреля 2024: какие сегодня праздники отмечают', published_at=datetime.datetime(2024, 4, 9, 9, 30, tzinfo=TzInfo(+11:00)), lead='Газета «Южно-Сахалинск сегодня» рассказывает, какие праздники отмечаются в России и мире 9 апреля 2024 года.', tag=None, content=None)\n"
     ]
    }
   ],
   "source": [
    "cur_news.article = cur_article\n",
    "print(cur_news)"
   ]
  },
  {
   "cell_type": "code",
   "execution_count": 110,
   "metadata": {},
   "outputs": [
    {
     "data": {
      "text/plain": [
       "Article(title='Виктория Матвиенко: воспитатель должен научить детей общаться, дружить и прощать', published_at=datetime.datetime(2024, 4, 8, 10, 28, tzinfo=TzInfo(+11:00)), lead='Жюри муниципального этапа конкурса «Педагог года - 2024» , который традиционно прошел в Южно-Сахалинске,  отметило ее в специальной номинации «За сохранение культурных традиций». ', tag=None, content=None, image=Image(author=None, source=None, description=None, width=631, height=356, image_90='/attachments/96955f96510ed9619513f54983f64f493af79eb6/store/crop/84/0/631/356/90/0/0/0/2c98659daa0974b9334c652fcbcea445cd0649c311232bd9a9cb130714ee/2c98659daa0974b9334c652fcbcea445cd0649c311232bd9a9cb130714ee.jpeg.jpg', image_250='/attachments/084aca05b52a0bcf97a22637ad9bb8ef7caeba74/store/crop/84/0/631/356/250/0/0/0/2c98659daa0974b9334c652fcbcea445cd0649c311232bd9a9cb130714ee/2c98659daa0974b9334c652fcbcea445cd0649c311232bd9a9cb130714ee.jpeg.jpg', image_800='/attachments/20a2fd873f1675ee41d35bce025f35adf9b58d79/store/crop/84/0/631/356/800/0/0/0/2c98659daa0974b9334c652fcbcea445cd0649c311232bd9a9cb130714ee/2c98659daa0974b9334c652fcbcea445cd0649c311232bd9a9cb130714ee.jpeg.jpg', image_1600='/attachments/dd1466962ecff3c1fc22d2306133f5714b8cdfb4/store/crop/84/0/631/356/1600/0/0/0/2c98659daa0974b9334c652fcbcea445cd0649c311232bd9a9cb130714ee/2c98659daa0974b9334c652fcbcea445cd0649c311232bd9a9cb130714ee.jpeg.jpg'), images=None)"
      ]
     },
     "execution_count": 110,
     "metadata": {},
     "output_type": "execute_result"
    }
   ],
   "source": [
    "response = requests.get('https://sakhizdat.ru/api/site/matters/articles/persona-1/2024-04-08/viktoriya-matvienko-vospitatel-dolzhen-nauchit-detey-obschatsya-druzhit-i-proschat-412754')\n",
    "rez = response.json()\n",
    "rez"
   ]
  },
  {
   "cell_type": "code",
   "execution_count": 118,
   "metadata": {},
   "outputs": [
    {
     "data": {
      "text/plain": [
       "Article(title='Виктория Матвиенко: воспитатель должен научить детей общаться, дружить и прощать', published_at=datetime.datetime(2024, 4, 8, 10, 28, tzinfo=TzInfo(+11:00)), lead='Жюри муниципального этапа конкурса «Педагог года - 2024» , который традиционно прошел в Южно-Сахалинске,  отметило ее в специальной номинации «За сохранение культурных традиций». ', tags=[Tag(title='педагог', slug='pedagog', path='/tags/pedagog'), Tag(title='конкурс', slug='konkurs', path='/tags/konkurs'), Tag(title='детский сад', slug='detskiy-sad', path='/tags/detskiy-sad'), Tag(title='семья', slug='semya', path='/tags/semya'), Tag(title='образование', slug='obrazovanie', path='/tags/obrazovanie'), Tag(title='традиции', slug='traditsii', path='/tags/traditsii')], content_blocks=[Content(position=0, kind='common', text='<p><em>Общий стаж работы в сфере образования - 13 лет. За это время прошла профессиональную переподготовку и освоила методы, которые помогают увлечь полезным даже самых непоседливых. В 2018-м Виктория Викторовна устроилась воспитателем в детский сад &laquo;Бусинка&raquo;.</em></p>', images=None), Content(position=1, kind='image', text=None, images=None), Content(position=2, kind='common', text='<p>В ее старшей билингвальной&nbsp;группе &laquo;Шустрики&raquo; 24 малыша. Надо видеть, с каким увлечением пятилетние актеры разучивают роли в английской сказке! В апреле на театральной неделе они покажут забавную постановку &laquo;Кошка и мышка&raquo; ребятам из других групп.</p> <p>Детский сад № 57 находится в Дальнем, где Виктория с семьей живет уже много лет. Здесь все на виду, и ей приятно наблюдать за успехами выпускников в учебе, спорте и творчестве.</p> <p>В &laquo;Бусинку&raquo; ходит ее трехлетний сын Матвей.</p>', images=None), Content(position=3, kind='image', text=None, images=None), Content(position=4, kind='common', text='<p>- А меня родители в детский сад в свое время решили не отдавать. Мы жили в частном доме в Тымовском, вели большое хозяйство. Я целый день играла с домашними животными, копалась в огороде и не скучала без общения, - вспоминает воспитатель. - В первый класс пришла робкой и стеснительной. Когда записалась в танцевальный и театральный кружки, появились друзья. Творчество помогло раскрыться. Мне повезло с учителями, в тымовской школе № 1 было развито наставничество. В старших классах нам, как вожатым, давали возможность готовить ребят помладше к выступлениям на мероприятиях. Эти навыки пригодились не только в работе. Я люблю проводить дни рождения и другие праздники для семьи, знакомых. А танцами занимаюсь до сих пор.</p>', images=None), Content(position=5, kind='image', text=None, images=None), Content(position=6, kind='common', text='<p>После школы Виктория получила педагогическую специальность в СахГУ, хотя папа хотел видеть дочь экономистом. Но людям, которым удалось сохранить детский взгляд на мир, скучно сидеть за сухими цифрами.</p>', images=None), Content(position=7, kind='image', text=None, images=None), Content(position=8, kind='common', text='<p>- Каждый день познаю вместе с ребятами что-то новое, помогаю им раскрывать способности и развиваю свои. Я не работаю, я живу этим, - говорит Виктория.</p>', images=None), Content(position=9, kind='gallery', text=None, images=[Image(author=None, source=None, description=None, width=1063, height=598, image_90='/attachments/2ee8670b96474b86fdca405c5ead92d9f58a2fc7/store/crop/108/0/1063/598/90/0/0/0/bbfafff31911cd03d456e340ce4aff626c486e02cde6b604118a1056aa9e/bbfafff31911cd03d456e340ce4aff626c486e02cde6b604118a1056aa9e.jpeg', image_250='/attachments/09fc43a711d9ec4db87ab28b01672e9a5716a52e/store/crop/108/0/1063/598/250/0/0/0/bbfafff31911cd03d456e340ce4aff626c486e02cde6b604118a1056aa9e/bbfafff31911cd03d456e340ce4aff626c486e02cde6b604118a1056aa9e.jpeg', image_800='/attachments/59872b27232fad0be2ce5ee86580c5bae95e9b02/store/crop/108/0/1063/598/800/0/0/0/bbfafff31911cd03d456e340ce4aff626c486e02cde6b604118a1056aa9e/bbfafff31911cd03d456e340ce4aff626c486e02cde6b604118a1056aa9e.jpeg', image_1600='/attachments/bf9a6d89d06655f1e95b844ef42c1367dc78c567/store/crop/108/0/1063/598/1600/0/0/0/bbfafff31911cd03d456e340ce4aff626c486e02cde6b604118a1056aa9e/bbfafff31911cd03d456e340ce4aff626c486e02cde6b604118a1056aa9e.jpeg'), Image(author=None, source=None, description=None, width=1063, height=598, image_90='/attachments/1bedda6d5fa6e114d6764bbe34c3c2d198822260/store/crop/108/0/1063/598/90/0/0/0/d32b237f107e0b3b5d4ffff9d39591599aa7b28d6549616594d78d8361a2/d32b237f107e0b3b5d4ffff9d39591599aa7b28d6549616594d78d8361a2.jpeg', image_250='/attachments/2f0bea247e67cba8f6073c1d4e922404d2dbbd67/store/crop/108/0/1063/598/250/0/0/0/d32b237f107e0b3b5d4ffff9d39591599aa7b28d6549616594d78d8361a2/d32b237f107e0b3b5d4ffff9d39591599aa7b28d6549616594d78d8361a2.jpeg', image_800='/attachments/22724a2dab9ccdd166fd2c5bb126279045c0b402/store/crop/108/0/1063/598/800/0/0/0/d32b237f107e0b3b5d4ffff9d39591599aa7b28d6549616594d78d8361a2/d32b237f107e0b3b5d4ffff9d39591599aa7b28d6549616594d78d8361a2.jpeg', image_1600='/attachments/e15cc96eb7aca3d5ec38dfe3ae0fbf0f8e35df99/store/crop/108/0/1063/598/1600/0/0/0/d32b237f107e0b3b5d4ffff9d39591599aa7b28d6549616594d78d8361a2/d32b237f107e0b3b5d4ffff9d39591599aa7b28d6549616594d78d8361a2.jpeg'), Image(author=None, source=None, description=None, width=1063, height=598, image_90='/attachments/7df1e1b2e5f826296e530d8984abe3936d2ca462/store/crop/108/0/1063/598/90/0/0/0/ddaeaaf9ff231587c8418a5efbbdca8031cbe12f52764bd7458e439237cd/ddaeaaf9ff231587c8418a5efbbdca8031cbe12f52764bd7458e439237cd.jpeg', image_250='/attachments/028c15bc85eaab5f69a8c0babb6081094e897a70/store/crop/108/0/1063/598/250/0/0/0/ddaeaaf9ff231587c8418a5efbbdca8031cbe12f52764bd7458e439237cd/ddaeaaf9ff231587c8418a5efbbdca8031cbe12f52764bd7458e439237cd.jpeg', image_800='/attachments/47ebba5becdb2fb39ae1d0151e711e524cf4c928/store/crop/108/0/1063/598/800/0/0/0/ddaeaaf9ff231587c8418a5efbbdca8031cbe12f52764bd7458e439237cd/ddaeaaf9ff231587c8418a5efbbdca8031cbe12f52764bd7458e439237cd.jpeg', image_1600='/attachments/c8f6b66c9bc6852b107e15e033a7ef10a12e4dd1/store/crop/108/0/1063/598/1600/0/0/0/ddaeaaf9ff231587c8418a5efbbdca8031cbe12f52764bd7458e439237cd/ddaeaaf9ff231587c8418a5efbbdca8031cbe12f52764bd7458e439237cd.jpeg')]), Content(position=10, kind='common', text='<p>И малыши сразу чувствуют, что ей комфортно в их детском мире, наполненном сказками и фантазиями.</p> <p>- Наша Виктория Викторовна красивая и добрая. Все понятно объясняет, интересно рассказывает про животных, - считает пятилетняя Ева Кузнецова.</p>', images=None), Content(position=11, kind='image', text=None, images=None), Content(position=12, kind='common', text='<p>- Она нежная и нас любит, - добавляет Рома Солдатов. - Мне очень понравилось, как она показывает эксперименты с пластилином.</p> <p>На педагогический конкурс их воспитатель шла с уверенностью, что достойно представит не только себя, но и работу всего дошкольного учреждения. &laquo;Бусинка&raquo; с 2020 года имеет статус региональной инновационной площадки и планирует эту деятельность только расширять. Цель - создать образовательно-развивающую среду для выявления и развития способностей дошкольников.</p>', images=None), Content(position=13, kind='common', text='<blockquote>- Каждый мой день не похож на предыдущий. Здесь я помогаю детям раскрыть свои способности и раскрываю свои. Каждый день познаю совместно с детьми что-то новое. А это ли не жизнь? Я&nbsp; не работаю &ndash; я живу, - говорит Виктория Матвиенко.&nbsp;</blockquote>', images=None), Content(position=14, kind='common', text='<p>- Наш руководитель Людмила Геннадьевна Гилевич - генератор идей, она предлагает массу интересных проектов и новых методик. Мы работаем единой командой. И какие только мероприятия не проводим для наших &laquo;бусинок&raquo;! Конкурсы, парады и даже балы, - рассказывает Виктория. - Почти в каждой семье наших воспитанников есть русские народные костюмы для участия в ярмарках и фестивалях, посвященных национальным традициям. На каждый месяц для всего детского сада мы выбираем общую тему, в марте это &laquo;Моя семья, мои корни&raquo;.</p>', images=None), Content(position=15, kind='image', text=None, images=None), Content(position=16, kind='common', text='<p>На конкурсных испытаниях Виктория Матвиенко рассказала и о своей деятельности в роли координатора творческой группы по реализации федеральной инновационной площадки &laquo;Технологии эффективной социализации дошкольников&raquo; (ТЭС):</p>', images=None), Content(position=17, kind='image', text=None, images=None), Content(position=18, kind='video', text=None, images=None), Content(position=19, kind='common', text='<p>- На Сахалине она впервые начала применяться в нашем детском саду с 2020-го. Три года спустя, после того как к нам приезжали авторы данной технологии, мы начали в полной мере использовать всю их концепцию. Каждый день собираемся на утренний и вечерний круг: обсуждаем с детьми разные события, отношения в семье и с друзьями, намечаем по желанию ребят темы занятий. Малыши полюбили клубные часы, когда они могут свободно зайти в другие группы и общаться, выполняя определенное задание по теме месяца. Хорошо показала себя технология развивающего общения, позволяющая максимально избегать конфликтов в цепочке дети - родители - воспитатели. Мои &laquo;шустрики&raquo; после ссоры идут на коврик примирения, пока не поладят. Этот проект позволяет мне строить свою работу так, чтобы дети сами учились искать ответы на интересующие их вопросы и выход из разных ситуаций. Это важные ступени социализации.</p> <p>На церемонию награждения по итогам конкурса пришла группа поддержки коллег с плакатом, успеху Виктории порадовались муж и дети. К тому, что мамы две недели почти не было дома, они отнеслись с пониманием. Старшие дочери Ольга и Вероника нянчилась с младшим братом.</p>', images=None), Content(position=20, kind='image', text=None, images=None), Content(position=21, kind='common', text='<p>Девочки уже поговаривают о том, что в будущем тоже хотели бы работать воспитателями, как мама. И супруги Матвиенко совсем не против, чтобы в их многодетной семье образовалась семейная династия.</p>', images=None), Content(position=22, kind='quote', text='- Виктория Викторовна - знаток детской души, ответственный и творческий сотрудник, отличный организатор. Она сумела объединить идеей развивающего обучения ребят, родителей и коллег. В работе ТЭС дошкольников участвуют 40 педагогов. В прошлом году мы направили Викторию Матвиенко на всероссийскую конференцию в Сочи как победителя нашего внутреннего конкурса «Лучший педагог ДОУ». Выступая перед руководителями дошкольных учреждений России, она обобщила опыт проекта «Выборы новогоднего героя», и тот получил высокую оценку коллег. Эта поездка стала хорошим стимулом для участия в конкурсе «Педагог года». Решение жюри выделить Викторию Викторовну в специальной номинации мы расцениваем как оценку работы всего нашего молодого коллектива. Детский сад открылся шесть лет назад, но у нас уже сложились хорошие педагогические традиции и формы взаимодействия с родителями воспитанников, ', images=None), Content(position=23, kind='common', text='<p><em>Фото из архива В. Матвиенко.&nbsp;</em></p>', images=None), Content(position=24, kind='teaser_gallery', text=None, images=[Image(author=None, source=None, description=None, width=800, height=451, image_90='/attachments/e855826e4c4378e97b3ecdf43330e59c01a86f50/store/crop/0/121/800/451/90/0/0/0/bd165ab71a93ffa032eff91c66c9c63a1290b271377a9d9b55e95f9d98b9/bd165ab71a93ffa032eff91c66c9c63a1290b271377a9d9b55e95f9d98b9.jpeg.jpg', image_250='/attachments/2cf7502f49472c67f857fd93ab3927d7cf121197/store/crop/0/121/800/451/250/0/0/0/bd165ab71a93ffa032eff91c66c9c63a1290b271377a9d9b55e95f9d98b9/bd165ab71a93ffa032eff91c66c9c63a1290b271377a9d9b55e95f9d98b9.jpeg.jpg', image_800='/attachments/8b2e06ceab81ce510e25a9fded56879ad6df4c69/store/crop/0/121/800/451/800/0/0/0/bd165ab71a93ffa032eff91c66c9c63a1290b271377a9d9b55e95f9d98b9/bd165ab71a93ffa032eff91c66c9c63a1290b271377a9d9b55e95f9d98b9.jpeg.jpg', image_1600='/attachments/e89f1ca67fb67b16167ab50b8b40ab2e0b3fe15f/store/crop/0/121/800/451/1600/0/0/0/bd165ab71a93ffa032eff91c66c9c63a1290b271377a9d9b55e95f9d98b9/bd165ab71a93ffa032eff91c66c9c63a1290b271377a9d9b55e95f9d98b9.jpeg.jpg'), Image(author=None, source=None, description=None, width=634, height=673, image_90='/attachments/91dd37894cc4af388b1e99880db2891bb8c29ddf/store/crop/53/0/634/673/90/0/0/0/9322ff27aad3e1f0b2f0a5d11a5d700cc93a3e21b8a19b53d370fca4a985/9322ff27aad3e1f0b2f0a5d11a5d700cc93a3e21b8a19b53d370fca4a985.jpeg', image_250='/attachments/9d725bad8af935426456f5b12dc431f36f7870d8/store/crop/53/0/634/673/250/0/0/0/9322ff27aad3e1f0b2f0a5d11a5d700cc93a3e21b8a19b53d370fca4a985/9322ff27aad3e1f0b2f0a5d11a5d700cc93a3e21b8a19b53d370fca4a985.jpeg', image_800='/attachments/ba25d6898fa54f80c46e4f5f6639d4eb6dfda33b/store/crop/53/0/634/673/800/0/0/0/9322ff27aad3e1f0b2f0a5d11a5d700cc93a3e21b8a19b53d370fca4a985/9322ff27aad3e1f0b2f0a5d11a5d700cc93a3e21b8a19b53d370fca4a985.jpeg', image_1600='/attachments/44930538269796eb9dc9df4e61c651876c041203/store/crop/53/0/634/673/1600/0/0/0/9322ff27aad3e1f0b2f0a5d11a5d700cc93a3e21b8a19b53d370fca4a985/9322ff27aad3e1f0b2f0a5d11a5d700cc93a3e21b8a19b53d370fca4a985.jpeg'), Image(author=None, source=None, description=None, width=1598, height=899, image_90='/attachments/21b38a0ace782d5d0727f91482d40a8d1f34e77e/store/crop/0/0/1598/899/90/0/0/0/631835a4a92c21685ee749f6bafdc25725947f437aab012a176a588c787d/631835a4a92c21685ee749f6bafdc25725947f437aab012a176a588c787d.jpeg.jpg', image_250='/attachments/f8818b62ceeaba6bcb48fc3a208b819642072e3c/store/crop/0/0/1598/899/250/0/0/0/631835a4a92c21685ee749f6bafdc25725947f437aab012a176a588c787d/631835a4a92c21685ee749f6bafdc25725947f437aab012a176a588c787d.jpeg.jpg', image_800='/attachments/662a855147c41341093ee658541dcf13b46871c2/store/crop/0/0/1598/899/800/0/0/0/631835a4a92c21685ee749f6bafdc25725947f437aab012a176a588c787d/631835a4a92c21685ee749f6bafdc25725947f437aab012a176a588c787d.jpeg.jpg', image_1600='/attachments/b6af77a0445578eb527208af2f3ef49acebc880d/store/crop/0/0/1598/899/1600/0/0/0/631835a4a92c21685ee749f6bafdc25725947f437aab012a176a588c787d/631835a4a92c21685ee749f6bafdc25725947f437aab012a176a588c787d.jpeg.jpg'), Image(author=None, source=None, description=None, width=1413, height=798, image_90='/attachments/f184290e4b7d746fcc132d4634663f7413d09805/store/crop/0/211/1413/798/90/0/0/0/993417394c137ec447772a73357bc5dfebc13a61e629496df16c2af7f6fd/993417394c137ec447772a73357bc5dfebc13a61e629496df16c2af7f6fd.jpeg.jpg', image_250='/attachments/808bdb69861e1ca12879dca18d18947f02c44d8f/store/crop/0/211/1413/798/250/0/0/0/993417394c137ec447772a73357bc5dfebc13a61e629496df16c2af7f6fd/993417394c137ec447772a73357bc5dfebc13a61e629496df16c2af7f6fd.jpeg.jpg', image_800='/attachments/f5d2a4228a559ae694447a792f06410b81312d72/store/crop/0/211/1413/798/800/0/0/0/993417394c137ec447772a73357bc5dfebc13a61e629496df16c2af7f6fd/993417394c137ec447772a73357bc5dfebc13a61e629496df16c2af7f6fd.jpeg.jpg', image_1600='/attachments/b243d4917d7eed2fe441199f3705adc730135ff4/store/crop/0/211/1413/798/1600/0/0/0/993417394c137ec447772a73357bc5dfebc13a61e629496df16c2af7f6fd/993417394c137ec447772a73357bc5dfebc13a61e629496df16c2af7f6fd.jpeg.jpg'), Image(author=None, source=None, description=None, width=867, height=489, image_90='/attachments/d1324637cdc0d756e2a5fa7ea66f2842e9749283/store/crop/0/250/867/489/90/0/0/0/0ca7a0f31a51aeaaf6f214f016d000f32bd1e15625307729369dab6f274a/0ca7a0f31a51aeaaf6f214f016d000f32bd1e15625307729369dab6f274a.jpeg.jpg', image_250='/attachments/960d9ffcef2654b3cf4a9b690b69b75f19d86f67/store/crop/0/250/867/489/250/0/0/0/0ca7a0f31a51aeaaf6f214f016d000f32bd1e15625307729369dab6f274a/0ca7a0f31a51aeaaf6f214f016d000f32bd1e15625307729369dab6f274a.jpeg.jpg', image_800='/attachments/a10d5ad14ca58c594066b50014a975f8f356fd79/store/crop/0/250/867/489/800/0/0/0/0ca7a0f31a51aeaaf6f214f016d000f32bd1e15625307729369dab6f274a/0ca7a0f31a51aeaaf6f214f016d000f32bd1e15625307729369dab6f274a.jpeg.jpg', image_1600='/attachments/b1d91776327a5e2cd840c951fb1779689640be1f/store/crop/0/250/867/489/1600/0/0/0/0ca7a0f31a51aeaaf6f214f016d000f32bd1e15625307729369dab6f274a/0ca7a0f31a51aeaaf6f214f016d000f32bd1e15625307729369dab6f274a.jpeg.jpg'), Image(author=None, source=None, description=None, width=1279, height=719, image_90='/attachments/5afd70f33f4afbd38195a7735130d74acc12cde3/store/crop/0/440/1279/719/90/0/0/0/535740377956cf2921737ae9f20f2e0a5189c2db915b2e089eeb654d71ac/535740377956cf2921737ae9f20f2e0a5189c2db915b2e089eeb654d71ac.jpeg.jpg', image_250='/attachments/2748a16dc5915b10de988cd2d3acaec0e8ff8cc6/store/crop/0/440/1279/719/250/0/0/0/535740377956cf2921737ae9f20f2e0a5189c2db915b2e089eeb654d71ac/535740377956cf2921737ae9f20f2e0a5189c2db915b2e089eeb654d71ac.jpeg.jpg', image_800='/attachments/979e6407416770bcc65c2db55d0da2bd3afae3f1/store/crop/0/440/1279/719/800/0/0/0/535740377956cf2921737ae9f20f2e0a5189c2db915b2e089eeb654d71ac/535740377956cf2921737ae9f20f2e0a5189c2db915b2e089eeb654d71ac.jpeg.jpg', image_1600='/attachments/218dc0647785b1e484e313c558f48e92836843c9/store/crop/0/440/1279/719/1600/0/0/0/535740377956cf2921737ae9f20f2e0a5189c2db915b2e089eeb654d71ac/535740377956cf2921737ae9f20f2e0a5189c2db915b2e089eeb654d71ac.jpeg.jpg'), Image(author=None, source=None, description=None, width=1600, height=903, image_90='/attachments/6a9371d4cd9eb7be922921c8a3f2396f6578238c/store/crop/0/41/1600/903/90/0/0/0/b21df7fc501af5f68e60db7fd9d8bc347048d26b7c10c18d330cc238c67c/b21df7fc501af5f68e60db7fd9d8bc347048d26b7c10c18d330cc238c67c.jpeg.jpg', image_250='/attachments/64535724c113eb707a431a632f415e1059a80e17/store/crop/0/41/1600/903/250/0/0/0/b21df7fc501af5f68e60db7fd9d8bc347048d26b7c10c18d330cc238c67c/b21df7fc501af5f68e60db7fd9d8bc347048d26b7c10c18d330cc238c67c.jpeg.jpg', image_800='/attachments/73bc64584cd0773872a507873fd5184ec56645ab/store/crop/0/41/1600/903/800/0/0/0/b21df7fc501af5f68e60db7fd9d8bc347048d26b7c10c18d330cc238c67c/b21df7fc501af5f68e60db7fd9d8bc347048d26b7c10c18d330cc238c67c.jpeg.jpg', image_1600='/attachments/3e35efe54914c8dacbcccdebd7a37438d648ad27/store/crop/0/41/1600/903/1600/0/0/0/b21df7fc501af5f68e60db7fd9d8bc347048d26b7c10c18d330cc238c67c/b21df7fc501af5f68e60db7fd9d8bc347048d26b7c10c18d330cc238c67c.jpeg.jpg'), Image(author=None, source=None, description=None, width=1200, height=677, image_90='/attachments/38ae2258206a261de1fbf65788b1ed9ed6b5b6dc/store/crop/0/242/1200/677/90/0/0/0/20aa358ba13d45227ec25d4cc795b007eb29c83856ee0afc0ea4e4ed7192/20aa358ba13d45227ec25d4cc795b007eb29c83856ee0afc0ea4e4ed7192.jpeg.jpg', image_250='/attachments/0e15e6f4645d87116c2efc28ba9a044f53649080/store/crop/0/242/1200/677/250/0/0/0/20aa358ba13d45227ec25d4cc795b007eb29c83856ee0afc0ea4e4ed7192/20aa358ba13d45227ec25d4cc795b007eb29c83856ee0afc0ea4e4ed7192.jpeg.jpg', image_800='/attachments/2b8e17f31d65ed9fba287cbd024b67022e910630/store/crop/0/242/1200/677/800/0/0/0/20aa358ba13d45227ec25d4cc795b007eb29c83856ee0afc0ea4e4ed7192/20aa358ba13d45227ec25d4cc795b007eb29c83856ee0afc0ea4e4ed7192.jpeg.jpg', image_1600='/attachments/d42a5208406a4a0b331efbea56ab8252044909fd/store/crop/0/242/1200/677/1600/0/0/0/20aa358ba13d45227ec25d4cc795b007eb29c83856ee0afc0ea4e4ed7192/20aa358ba13d45227ec25d4cc795b007eb29c83856ee0afc0ea4e4ed7192.jpeg.jpg'), Image(author=None, source=None, description=None, width=1156, height=653, image_90='/attachments/0cf066eda28c912d1dd12c26f2f338b5bb63894d/store/crop/0/61/1156/653/90/0/0/0/884902499d06754763408935df3cc88d1eb1475ee005b691cef07706370c/884902499d06754763408935df3cc88d1eb1475ee005b691cef07706370c.jpeg.jpg', image_250='/attachments/991e7bdbaa3b3b644c45984dfeb95d4a98cb10d7/store/crop/0/61/1156/653/250/0/0/0/884902499d06754763408935df3cc88d1eb1475ee005b691cef07706370c/884902499d06754763408935df3cc88d1eb1475ee005b691cef07706370c.jpeg.jpg', image_800='/attachments/5eecfc2c43bb2511a3056a49361b0b29590fed09/store/crop/0/61/1156/653/800/0/0/0/884902499d06754763408935df3cc88d1eb1475ee005b691cef07706370c/884902499d06754763408935df3cc88d1eb1475ee005b691cef07706370c.jpeg.jpg', image_1600='/attachments/3c87ee1e3179806dc151104b2dde9f1d44793ca2/store/crop/0/61/1156/653/1600/0/0/0/884902499d06754763408935df3cc88d1eb1475ee005b691cef07706370c/884902499d06754763408935df3cc88d1eb1475ee005b691cef07706370c.jpeg.jpg')])], image=Image(author=None, source=None, description=None, width=631, height=356, image_90='/attachments/96955f96510ed9619513f54983f64f493af79eb6/store/crop/84/0/631/356/90/0/0/0/2c98659daa0974b9334c652fcbcea445cd0649c311232bd9a9cb130714ee/2c98659daa0974b9334c652fcbcea445cd0649c311232bd9a9cb130714ee.jpeg.jpg', image_250='/attachments/084aca05b52a0bcf97a22637ad9bb8ef7caeba74/store/crop/84/0/631/356/250/0/0/0/2c98659daa0974b9334c652fcbcea445cd0649c311232bd9a9cb130714ee/2c98659daa0974b9334c652fcbcea445cd0649c311232bd9a9cb130714ee.jpeg.jpg', image_800='/attachments/20a2fd873f1675ee41d35bce025f35adf9b58d79/store/crop/84/0/631/356/800/0/0/0/2c98659daa0974b9334c652fcbcea445cd0649c311232bd9a9cb130714ee/2c98659daa0974b9334c652fcbcea445cd0649c311232bd9a9cb130714ee.jpeg.jpg', image_1600='/attachments/dd1466962ecff3c1fc22d2306133f5714b8cdfb4/store/crop/84/0/631/356/1600/0/0/0/2c98659daa0974b9334c652fcbcea445cd0649c311232bd9a9cb130714ee/2c98659daa0974b9334c652fcbcea445cd0649c311232bd9a9cb130714ee.jpeg.jpg'))"
      ]
     },
     "execution_count": 118,
     "metadata": {},
     "output_type": "execute_result"
    }
   ],
   "source": [
    "rez_article = Article(**rez)\n",
    "rez_article"
   ]
  },
  {
   "cell_type": "code",
   "execution_count": 119,
   "metadata": {},
   "outputs": [
    {
     "data": {
      "text/plain": [
       "[Tag(title='педагог', slug='pedagog', path='/tags/pedagog'),\n",
       " Tag(title='конкурс', slug='konkurs', path='/tags/konkurs'),\n",
       " Tag(title='детский сад', slug='detskiy-sad', path='/tags/detskiy-sad'),\n",
       " Tag(title='семья', slug='semya', path='/tags/semya'),\n",
       " Tag(title='образование', slug='obrazovanie', path='/tags/obrazovanie'),\n",
       " Tag(title='традиции', slug='traditsii', path='/tags/traditsii')]"
      ]
     },
     "execution_count": 119,
     "metadata": {},
     "output_type": "execute_result"
    }
   ],
   "source": [
    "rez_article.tags"
   ]
  },
  {
   "cell_type": "code",
   "execution_count": 2,
   "metadata": {},
   "outputs": [],
   "source": [
    "import requests\n",
    "from mun_model import News, Article\n",
    "link = 'https://sakhizdat.ru/'\n",
    "# Получаем новости\n",
    "response_news = requests.get('https://sakhizdat.ru/api/site/matters')\n",
    "for news in response_news.json()['matters']:\n",
    "    cur_news = News(**news)\n",
    "    # Получаем ссылку на статью\n",
    "    article_link = 'https://sakhizdat.ru/api/site/matters' + cur_news.path\n",
    "    # Получаем статью\n",
    "    article_response = requests.get(article_link).json()\n",
    "    article = Article(**article_response)\n",
    "    article.site_link = link\n",
    "    article.image.image_90 = (link +\n",
    "                                article.\n",
    "                                image.\n",
    "                                image_90[1:])\n",
    "    article.image.image_800 = (link +\n",
    "                                article.\n",
    "                                image.\n",
    "                                image_800[1:])\n",
    "    article.image.image_250 = (link +\n",
    "                                article.\n",
    "                                image.\n",
    "                                image_250[1:])\n",
    "    article.image.image_1600 = (link +\n",
    "                                article.\n",
    "                                image.\n",
    "                                image_1600[1:])\n",
    "    break"
   ]
  },
  {
   "cell_type": "code",
   "execution_count": 23,
   "metadata": {},
   "outputs": [
    {
     "name": "stdout",
     "output_type": "stream",
     "text": [
      "Южно-Сахалинск - Газета «Южно-Сахалинск сегодня» - https://sakhizdat.ru/\n",
      "Корсаковский ГО - Газета «Восход» - https://восход65.рф/\n",
      "Долинский ГО - Газета «Долинская правда» - https://dolinsk.today/\n",
      "Ногликский ГО - Газета «Знамя труда» - https://noglgazeta.ru/\n",
      "Александровск-Сахалинский - Газета «Красное знамя» - https://znamya65.ru/\n",
      "Курильский - Газета «Красный маяк» - https://iturup.news/\n",
      "Северо-Курильскиий - Газета «Курильский рыбак» — https://krsevkur.ru/\n",
      "Южно-Курильский - Газета «На рубеже» — https://kurilnews.ru/\n",
      "Невельский - Газета «Невельские новости» — https://nevnews.info/\n",
      "Макаровий - Газета «Новая газета» — https://gazetamakarov.ru/\n",
      "Смирныховский - Газета «Новая жизнь» — https://alsakh.ru/\n",
      "Тымовский - Газета «Тымовский вестник» — https://tymnews.ru/\n",
      "Анивский - Газета «Утро Родины» - https://aniva-utro.ru/\n",
      "Холмский - Газета «Холмская панорама» - https://kholmsk.info/\n",
      "Попронайский - Газета «Экспресс» - https://express65.ru/\n",
      "Томаринский - Газета «Вести Томари» - https://vesti-tomari.ru/\n"
     ]
    }
   ],
   "source": [
    "SOURCE_LIST = [\n",
    "    'Южно-Сахалинск - Газета «Южно-Сахалинск сегодня» - https://sakhizdat.ru/',\n",
    "    'Корсаковский ГО - Газета «Восход» - https://восход65.рф/',\n",
    "    'Долинский ГО - Газета «Долинская правда» - https://dolinsk.today/',\n",
    "    'Ногликский ГО - Газета «Знамя труда» - https://noglgazeta.ru/',\n",
    "    'Александровск-Сахалинский - Газета «Красное знамя» - https://znamya65.ru/',\n",
    "    'Курильский - Газета «Красный маяк» - https://iturup.news/',\n",
    "    'Северо-Курильскиий - Газета «Курильский рыбак» — https://krsevkur.ru/',\n",
    "    'Южно-Курильский - Газета «На рубеже» — https://kurilnews.ru/',\n",
    "    'Невельский - Газета «Невельские новости» — https://nevnews.info/',\n",
    "    'Макаровий - Газета «Новая газета» — https://gazetamakarov.ru/',\n",
    "    'Смирныховский - Газета «Новая жизнь» — https://alsakh.ru/',\n",
    "    'Тымовский - Газета «Тымовский вестник» — https://tymnews.ru/',\n",
    "    'Анивский - Газета «Утро Родины» - https://aniva-utro.ru/',\n",
    "    'Холмский - Газета «Холмская панорама» - https://kholmsk.info/',\n",
    "    'Попронайский - Газета «Экспресс» - https://express65.ru/',\n",
    "    'Томаринский - Газета «Вести Томари» - https://vesti-tomari.ru/',\n",
    "]\n",
    "\n",
    "for source in SOURCE_LIST:\n",
    "    print(source)\n"
   ]
  },
  {
   "cell_type": "code",
   "execution_count": 2,
   "metadata": {},
   "outputs": [
    {
     "ename": "NameError",
     "evalue": "name 'source' is not defined",
     "output_type": "error",
     "traceback": [
      "\u001b[1;31m---------------------------------------------------------------------------\u001b[0m",
      "\u001b[1;31mNameError\u001b[0m                                 Traceback (most recent call last)",
      "Cell \u001b[1;32mIn[2], line 1\u001b[0m\n\u001b[1;32m----> 1\u001b[0m \u001b[43msource\u001b[49m\u001b[38;5;241m.\u001b[39mreplace(\u001b[38;5;124m'\u001b[39m\u001b[38;5;124m—\u001b[39m\u001b[38;5;124m'\u001b[39m, \u001b[38;5;124m'\u001b[39m\u001b[38;5;124m-\u001b[39m\u001b[38;5;124m'\u001b[39m)\u001b[38;5;241m.\u001b[39msplit(\u001b[38;5;124m'\u001b[39m\u001b[38;5;124m - \u001b[39m\u001b[38;5;124m'\u001b[39m)\n",
      "\u001b[1;31mNameError\u001b[0m: name 'source' is not defined"
     ]
    }
   ],
   "source": [
    "# если необходимо сделать сплит по нескольким элементам\n",
    "# можно реплейсом все привести к единому виду\n",
    "source.replace('—', '-').split(' - ')"
   ]
  },
  {
   "cell_type": "code",
   "execution_count": null,
   "metadata": {},
   "outputs": [],
   "source": []
  }
 ],
 "metadata": {
  "kernelspec": {
   "display_name": ".venv",
   "language": "python",
   "name": "python3"
  },
  "language_info": {
   "codemirror_mode": {
    "name": "ipython",
    "version": 3
   },
   "file_extension": ".py",
   "mimetype": "text/x-python",
   "name": "python",
   "nbconvert_exporter": "python",
   "pygments_lexer": "ipython3",
   "version": "3.11.4"
  }
 },
 "nbformat": 4,
 "nbformat_minor": 2
}
